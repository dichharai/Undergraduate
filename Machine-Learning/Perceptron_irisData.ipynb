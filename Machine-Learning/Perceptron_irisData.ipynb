{
 "cells": [
  {
   "cell_type": "code",
   "execution_count": 32,
   "metadata": {
    "collapsed": false
   },
   "outputs": [
    {
     "name": "stdout",
     "output_type": "stream",
     "text": [
      "Keys =  dict_keys(['data', 'target_names', 'DESCR', 'feature_names', 'target'])\n",
      "Predicted result:  [2 2]\n",
      "Predicted iris name:  ['virginica' 'virginica']\n",
      "             precision    recall  f1-score   support\n",
      "\n",
      "     setosa       0.93      1.00      0.96        13\n",
      " versicolor       1.00      0.54      0.70        13\n",
      "  virginica       0.71      1.00      0.83        12\n",
      "\n",
      "avg / total       0.88      0.84      0.83        38\n",
      "\n"
     ]
    }
   ],
   "source": [
    "#using Perceptron\n",
    "from sklearn import datasets\n",
    "from sklearn.linear_model import Perceptron\n",
    "from sklearn.cross_validation import train_test_split\n",
    "from sklearn.metrics import confusion_matrix, classification_report\n",
    "import numpy as np\n",
    "import matplotlib.pyplot as plt\n",
    "\n",
    "iris = datasets.load_iris()\n",
    "#iris\n",
    "print(\"Keys = \", iris.keys())\n",
    "x,y = iris.data, iris.target\n",
    "Xtrain, Xtest, ytrain, ytest = train_test_split(x,y)\n",
    "\n",
    "#create the model\n",
    "sss = Perceptron() #n_iter \n",
    "\n",
    "#fit the model\n",
    "sss.fit(Xtrain,ytrain)\n",
    "\n",
    "#what kind of iris has cm * 5 cm\n",
    "result =  sss.predict([[3,5,4,2],[2,4,5,3]])\n",
    "print(\"Predicted result: \", result)\n",
    "print(\"Predicted iris name: \",iris.target_names[result])\n",
    "\n",
    "ypred = sss.predict(Xtest)\n",
    "print(classification_report(ytest,ypred,target_names = iris.target_names))\n"
   ]
  },
  {
   "cell_type": "code",
   "execution_count": 33,
   "metadata": {
    "collapsed": false
   },
   "outputs": [],
   "source": [
    "#Using SVM\n",
    "from sklearn.svm import SVC\n",
    "from sklearn.cross_validation import train_test_split\n",
    "from sklearn.metrics import confusion_matrix, classification_report\n"
   ]
  },
  {
   "cell_type": "code",
   "execution_count": 34,
   "metadata": {
    "collapsed": false
   },
   "outputs": [
    {
     "name": "stdout",
     "output_type": "stream",
     "text": [
      "Keys:  dict_keys(['data', 'target_names', 'DESCR', 'feature_names', 'target'])\n"
     ]
    }
   ],
   "source": [
    "iris= datasets.load_iris()\n",
    "print(\"Keys: \", iris.keys())\n",
    "x, y = iris.data, iris.target\n",
    "\n",
    "Xtrain, Xtest, Ctrain, Ctest = train_test_split(x,y)\n"
   ]
  },
  {
   "cell_type": "code",
   "execution_count": 35,
   "metadata": {
    "collapsed": false
   },
   "outputs": [
    {
     "data": {
      "text/plain": [
       "SVC(C=1.0, cache_size=200, class_weight=None, coef0=0.0, degree=3, gamma=0.0,\n",
       "  kernel='rbf', max_iter=-1, probability=False, random_state=None,\n",
       "  shrinking=True, tol=0.001, verbose=False)"
      ]
     },
     "execution_count": 35,
     "metadata": {},
     "output_type": "execute_result"
    }
   ],
   "source": [
    "classifier = SVC()\n",
    "classifier.fit(Xtrain, Ctrain)"
   ]
  },
  {
   "cell_type": "code",
   "execution_count": 36,
   "metadata": {
    "collapsed": false
   },
   "outputs": [
    {
     "name": "stdout",
     "output_type": "stream",
     "text": [
      "             precision    recall  f1-score   support\n",
      "\n",
      "          0       1.00      1.00      1.00        15\n",
      "          1       1.00      1.00      1.00        11\n",
      "          2       1.00      1.00      1.00        12\n",
      "\n",
      "avg / total       1.00      1.00      1.00        38\n",
      "\n"
     ]
    }
   ],
   "source": [
    "Cpred= classifier.predict(Xtest)\n",
    "print(classification_report(Ctest,Cpred))"
   ]
  },
  {
   "cell_type": "code",
   "execution_count": 37,
   "metadata": {
    "collapsed": true
   },
   "outputs": [],
   "source": [
    "#Observation: Support Vector Classifier does much better job in classification than Perceptron"
   ]
  }
 ],
 "metadata": {
  "kernelspec": {
   "display_name": "Python 3",
   "language": "python",
   "name": "python3"
  },
  "language_info": {
   "codemirror_mode": {
    "name": "ipython",
    "version": 3
   },
   "file_extension": ".py",
   "mimetype": "text/x-python",
   "name": "python",
   "nbconvert_exporter": "python",
   "pygments_lexer": "ipython3",
   "version": "3.4.0"
  }
 },
 "nbformat": 4,
 "nbformat_minor": 0
}
