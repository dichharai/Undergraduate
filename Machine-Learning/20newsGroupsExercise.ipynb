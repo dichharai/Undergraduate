{
 "cells": [
  {
   "cell_type": "code",
   "execution_count": 17,
   "metadata": {
    "collapsed": false
   },
   "outputs": [
    {
     "name": "stdout",
     "output_type": "stream",
     "text": [
      "             precision    recall  f1-score   support\n",
      "\n",
      "         ar       1.00      1.00      1.00        12\n",
      "         de       1.00      0.95      0.97        57\n",
      "         en       1.00      1.00      1.00        70\n",
      "         es       0.98      0.98      0.98        49\n",
      "         fr       1.00      1.00      1.00        61\n",
      "         it       1.00      0.95      0.98        43\n",
      "         ja       1.00      0.97      0.99        36\n",
      "         nl       0.71      1.00      0.83        15\n",
      "         pl       0.94      1.00      0.97        17\n",
      "         pt       1.00      0.98      0.99        52\n",
      "         ru       1.00      1.00      1.00        30\n",
      "\n",
      "avg / total       0.99      0.98      0.98       442\n",
      "\n",
      "Confusion Matrix\n",
      "[[12  0  0  0  0  0  0  0  0  0  0]\n",
      " [ 0 54  0  0  0  0  0  2  1  0  0]\n",
      " [ 0  0 70  0  0  0  0  0  0  0  0]\n",
      " [ 0  0  0 48  0  0  0  1  0  0  0]\n",
      " [ 0  0  0  0 61  0  0  0  0  0  0]\n",
      " [ 0  0  0  0  0 41  0  2  0  0  0]\n",
      " [ 0  0  0  0  0  0 35  1  0  0  0]\n",
      " [ 0  0  0  0  0  0  0 15  0  0  0]\n",
      " [ 0  0  0  0  0  0  0  0 17  0  0]\n",
      " [ 0  0  0  1  0  0  0  0  0 51  0]\n",
      " [ 0  0  0  0  0  0  0  0  0  0 30]]\n"
     ]
    },
    {
     "data": {
      "image/png": "[encoded data removed]",
      "text/plain": [
       "<matplotlib.figure.Figure at 0x7f870dcb4e10>"
      ]
     },
     "metadata": {},
     "output_type": "display_data"
    },
    {
     "name": "stdout",
     "output_type": "stream",
     "text": [
      "The language of \"This is a language detection test.\" is \"en\"\n",
      "The language of \"Ceci est un test de détection de la langue.\" is \"fr\"\n",
      "The language of \"Dies ist ein Test, um die Sprache zu erkennen.\" is \"de\"\n"
     ]
    }
   ],
   "source": [
    "%matplotlib inline\n",
    "%run ../work_directory/sklearn_tut_workspace/workspace/exercise_01_language_train_model.py ../scikit-learn/doc/tutorial/text_analytics/data/languages/paragraphs/"
   ]
  },
  {
   "cell_type": "code",
   "execution_count": 23,
   "metadata": {
    "collapsed": false
   },
   "outputs": [
    {
     "name": "stdout",
     "output_type": "stream",
     "text": [
      "n_samples: 2000\n",
      "[mean: 0.83267, std: 0.01688, params: {'vect__ngram_range': (1, 1)}, mean: 0.84200, std: 0.01162, params: {'vect__ngram_range': (1, 2)}]\n",
      "             precision    recall  f1-score   support\n",
      "\n",
      "        neg       0.86      0.82      0.84       240\n",
      "        pos       0.84      0.88      0.86       260\n",
      "\n",
      "avg / total       0.85      0.85      0.85       500\n",
      "\n",
      "Confusion Matrix\n",
      "[[198  42]\n",
      " [ 32 228]]\n",
      "Confusion matrix\n"
     ]
    },
    {
     "data": {
      "image/png": "[encoded data removed]",
      "text/plain": [
       "<matplotlib.figure.Figure at 0x7f870d7c04e0>"
      ]
     },
     "metadata": {},
     "output_type": "display_data"
    },
    {
     "name": "stdout",
     "output_type": "stream",
     "text": [
      "Sentence \"Is anything in this movie a spoiler? haha\" is \"neg\"\n",
      "Sentence \"I did not expect much from \"New York\".\" is \"neg\"\n",
      "Sentence \"This movie based on the novel of Bal Krishna Sam opens itself, showing the audiences as though it has done cent percent justice to the novel.\" is \"pos\"\n",
      "Sentence \" A hallmark of a good storyteller is making the audience empathise or pull them into the shoes of the central character. Miyazaki does this brilliantly in \"Spirited Away\".\" is \"pos\"\n",
      "Sentence \"The film came alive like the other Miyazaki\" I\"ve seen. \" is \"pos\"\n"
     ]
    }
   ],
   "source": [
    "%run ../work_directory/sklearn_tut_workspace/workspace/exercise_02_sentiment.py ../scikit-learn/doc/tutorial/text_analytics/data/movie_reviews/txt_sentoken/"
   ]
  },
  {
   "cell_type": "code",
   "execution_count": null,
   "metadata": {
    "collapsed": true
   },
   "outputs": [],
   "source": []
  }
 ],
 "metadata": {
  "kernelspec": {
   "display_name": "Python 3",
   "language": "python",
   "name": "python3"
  },
  "language_info": {
   "codemirror_mode": {
    "name": "ipython",
    "version": 3
   },
   "file_extension": ".py",
   "mimetype": "text/x-python",
   "name": "python",
   "nbconvert_exporter": "python",
   "pygments_lexer": "ipython3",
   "version": "3.4.3"
  }
 },
 "nbformat": 4,
 "nbformat_minor": 0
}
