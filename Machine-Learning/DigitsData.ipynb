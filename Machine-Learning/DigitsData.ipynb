{
 "cells": [
  {
   "cell_type": "code",
   "execution_count": 18,
   "metadata": {
    "collapsed": false
   },
   "outputs": [],
   "source": [
    "%matplotlib inline\n",
    "import numpy as np\n",
    "import random\n",
    "import pandas as pd\n",
    "import seaborn as sbn\n",
    "sbn.set()\n",
    "import matplotlib.pyplot as plt\n",
    "from sklearn import datasets\n",
    "from sklearn.linear_model import Perceptron\n",
    "from sklearn.svm import SVC\n",
    "from sklearn.cross_validation import train_test_split\n",
    "from sklearn.metrics import confusion_matrix, classification_report\n"
   ]
  },
  {
   "cell_type": "code",
   "execution_count": 19,
   "metadata": {
    "collapsed": false
   },
   "outputs": [
    {
     "name": "stdout",
     "output_type": "stream",
     "text": [
      "Keys:  dict_keys(['target_names', 'DESCR', 'data', 'target', 'images'])\n"
     ]
    }
   ],
   "source": [
    "#Using Perceptron\n",
    "digits = datasets.load_digits()\n",
    "print(\"Keys: \", digits.keys())"
   ]
  },
  {
   "cell_type": "code",
   "execution_count": 24,
   "metadata": {
    "collapsed": false
   },
   "outputs": [],
   "source": [
    "x, c = digits.data, digits.target\n",
    "#c\n",
    "#digits.images\n",
    "#digits.target_names\n",
    "Xtrain, Xtest, Ctrain, Ctest = train_test_split(x,c)\n"
   ]
  },
  {
   "cell_type": "code",
   "execution_count": 21,
   "metadata": {
    "collapsed": false
   },
   "outputs": [
    {
     "data": {
      "text/plain": [
       "Perceptron(alpha=0.0001, class_weight=None, eta0=1.0, fit_intercept=True,\n",
       "      n_iter=5, n_jobs=1, penalty=None, random_state=0, shuffle=True,\n",
       "      verbose=0, warm_start=False)"
      ]
     },
     "execution_count": 21,
     "metadata": {},
     "output_type": "execute_result"
    }
   ],
   "source": [
    "sss = Perceptron()\n",
    "sss.fit(Xtrain, Ctrain)"
   ]
  },
  {
   "cell_type": "code",
   "execution_count": 26,
   "metadata": {
    "collapsed": false
   },
   "outputs": [
    {
     "name": "stdout",
     "output_type": "stream",
     "text": [
      "             precision    recall  f1-score   support\n",
      "\n",
      "          0       1.00      1.00      1.00        41\n",
      "          1       0.94      0.79      0.86        43\n",
      "          2       0.98      0.95      0.96        43\n",
      "          3       0.88      0.97      0.92        36\n",
      "          4       1.00      0.72      0.84        40\n",
      "          5       1.00      0.96      0.98        57\n",
      "          6       0.66      1.00      0.79        42\n",
      "          7       1.00      1.00      1.00        52\n",
      "          8       0.80      0.76      0.78        49\n",
      "          9       0.96      0.91      0.93        47\n",
      "\n",
      "avg / total       0.92      0.91      0.91       450\n",
      "\n"
     ]
    }
   ],
   "source": [
    "Cpred = sss.predict(Xtest)\n",
    "print(classification_report(Ctest,Cpred))"
   ]
  },
  {
   "cell_type": "code",
   "execution_count": 27,
   "metadata": {
    "collapsed": false
   },
   "outputs": [
    {
     "data": {
      "text/plain": [
       "SVC(C=1.0, cache_size=200, class_weight=None, coef0=0.0, degree=3, gamma=0.0,\n",
       "  kernel='rbf', max_iter=-1, probability=False, random_state=None,\n",
       "  shrinking=True, tol=0.001, verbose=False)"
      ]
     },
     "execution_count": 27,
     "metadata": {},
     "output_type": "execute_result"
    }
   ],
   "source": [
    "#using SVC\n",
    "classifier = SVC()\n",
    "classifier.fit(Xtrain,Ctrain)"
   ]
  },
  {
   "cell_type": "code",
   "execution_count": 29,
   "metadata": {
    "collapsed": false
   },
   "outputs": [
    {
     "name": "stdout",
     "output_type": "stream",
     "text": [
      "             precision    recall  f1-score   support\n",
      "\n",
      "          0       1.00      0.68      0.81        41\n",
      "          1       1.00      0.44      0.61        43\n",
      "          2       1.00      0.33      0.49        43\n",
      "          3       0.11      1.00      0.20        36\n",
      "          4       1.00      0.50      0.67        40\n",
      "          5       1.00      0.04      0.07        57\n",
      "          6       1.00      0.71      0.83        42\n",
      "          7       1.00      0.21      0.35        52\n",
      "          8       1.00      0.02      0.04        49\n",
      "          9       1.00      0.11      0.19        47\n",
      "\n",
      "avg / total       0.93      0.37      0.41       450\n",
      "\n"
     ]
    }
   ],
   "source": [
    "Cpred = classifier.predict(Xtest)\n",
    "print(classification_report(Ctest,Cpred))"
   ]
  },
  {
   "cell_type": "code",
   "execution_count": 32,
   "metadata": {
    "collapsed": false
   },
   "outputs": [
    {
     "data": {
      "text/plain": [
       "SVC(C=1.0, cache_size=200, class_weight=None, coef0=0.0, degree=3, gamma=0.0,\n",
       "  kernel='linear', max_iter=-1, probability=False, random_state=None,\n",
       "  shrinking=True, tol=0.001, verbose=False)"
      ]
     },
     "execution_count": 32,
     "metadata": {},
     "output_type": "execute_result"
    }
   ],
   "source": [
    "classifier = SVC(kernel = \"linear\")\n",
    "classifier.fit(Xtrain,Ctrain)"
   ]
  },
  {
   "cell_type": "code",
   "execution_count": 33,
   "metadata": {
    "collapsed": false
   },
   "outputs": [
    {
     "name": "stdout",
     "output_type": "stream",
     "text": [
      "             precision    recall  f1-score   support\n",
      "\n",
      "          0       1.00      1.00      1.00        41\n",
      "          1       0.98      1.00      0.99        43\n",
      "          2       1.00      1.00      1.00        43\n",
      "          3       1.00      0.94      0.97        36\n",
      "          4       1.00      1.00      1.00        40\n",
      "          5       0.95      0.95      0.95        57\n",
      "          6       0.98      1.00      0.99        42\n",
      "          7       1.00      1.00      1.00        52\n",
      "          8       0.98      0.94      0.96        49\n",
      "          9       0.92      0.96      0.94        47\n",
      "\n",
      "avg / total       0.98      0.98      0.98       450\n",
      "\n"
     ]
    }
   ],
   "source": [
    "Cpred = classifier.predict(Xtest)\n",
    "print(classification_report(Ctest,Cpred))"
   ]
  },
  {
   "cell_type": "code",
   "execution_count": null,
   "metadata": {
    "collapsed": true
   },
   "outputs": [],
   "source": [
    "#observation: in SVC kernel = \"linear\" have better accuracy"
   ]
  },
  {
   "cell_type": "code",
   "execution_count": 37,
   "metadata": {
    "collapsed": false
   },
   "outputs": [
    {
     "data": {
      "text/plain": [
       "<matplotlib.figure.Figure at 0x7fcc1827a780>"
      ]
     },
     "metadata": {},
     "output_type": "display_data"
    },
    {
     "data": {
      "image/png": "[encoded data removed]",
      "text/plain": [
       "<matplotlib.figure.Figure at 0x7fcc1827aa58>"
      ]
     },
     "metadata": {},
     "output_type": "display_data"
    }
   ],
   "source": [
    "import pylab as pl\n",
    "pl.gray()\n",
    "pl.matshow(digits.images[9]) #showin\n",
    "pl.show()"
   ]
  },
  {
   "cell_type": "code",
   "execution_count": null,
   "metadata": {
    "collapsed": true
   },
   "outputs": [],
   "source": []
  },
  {
   "cell_type": "code",
   "execution_count": null,
   "metadata": {
    "collapsed": true
   },
   "outputs": [],
   "source": []
  },
  {
   "cell_type": "code",
   "execution_count": null,
   "metadata": {
    "collapsed": true
   },
   "outputs": [],
   "source": []
  },
  {
   "cell_type": "code",
   "execution_count": null,
   "metadata": {
    "collapsed": true
   },
   "outputs": [],
   "source": []
  }
 ],
 "metadata": {
  "kernelspec": {
   "display_name": "Python 3",
   "language": "python",
   "name": "python3"
  },
  "language_info": {
   "codemirror_mode": {
    "name": "ipython",
    "version": 3
   },
   "file_extension": ".py",
   "mimetype": "text/x-python",
   "name": "python",
   "nbconvert_exporter": "python",
   "pygments_lexer": "ipython3",
   "version": "3.4.0"
  }
 },
 "nbformat": 4,
 "nbformat_minor": 0
}
