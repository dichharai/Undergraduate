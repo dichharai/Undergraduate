{
 "cells": [
  {
   "cell_type": "code",
   "execution_count": 610,
   "metadata": {
    "collapsed": false
   },
   "outputs": [],
   "source": [
    "%matplotlib inline\n",
    "import numpy as np\n",
    "import pandas as pd\n",
    "import matplotlib.pyplot as plt\n",
    "import seaborn as sbn\n",
    "sbn.set()\n",
    "import math\n",
    "from sklearn.cross_validation import train_test_split\n",
    "from sklearn.ensemble import RandomForestClassifier\n",
    "from sklearn.linear_model import Perceptron\n",
    "from sklearn.metrics import classification_report,confusion_matrix\n",
    "from sklearn.naive_bayes import MultinomialNB\n",
    "from sklearn import metrics\n",
    "from sklearn.svm import SVC\n",
    "from matplotlib.colors import ListedColormap\n",
    "import warnings\n",
    "warnings.filterwarnings('ignore')\n"
   ]
  },
  {
   "cell_type": "code",
   "execution_count": 611,
   "metadata": {
    "collapsed": false
   },
   "outputs": [
    {
     "data": {
      "text/html": [
       "<div>\n",
       "<table border=\"1\" class=\"dataframe\">\n",
       "  <thead>\n",
       "    <tr style=\"text-align: right;\">\n",
       "      <th></th>\n",
       "      <th>buying</th>\n",
       "      <th>maint</th>\n",
       "      <th>doors</th>\n",
       "      <th>persons</th>\n",
       "      <th>lug_boot</th>\n",
       "      <th>safety</th>\n",
       "      <th>category</th>\n",
       "    </tr>\n",
       "  </thead>\n",
       "  <tbody>\n",
       "    <tr>\n",
       "      <th>0</th>\n",
       "      <td>vhigh</td>\n",
       "      <td>vhigh</td>\n",
       "      <td>2</td>\n",
       "      <td>2</td>\n",
       "      <td>small</td>\n",
       "      <td>low</td>\n",
       "      <td>unacc</td>\n",
       "    </tr>\n",
       "    <tr>\n",
       "      <th>1</th>\n",
       "      <td>vhigh</td>\n",
       "      <td>vhigh</td>\n",
       "      <td>2</td>\n",
       "      <td>2</td>\n",
       "      <td>small</td>\n",
       "      <td>med</td>\n",
       "      <td>unacc</td>\n",
       "    </tr>\n",
       "    <tr>\n",
       "      <th>2</th>\n",
       "      <td>vhigh</td>\n",
       "      <td>vhigh</td>\n",
       "      <td>2</td>\n",
       "      <td>2</td>\n",
       "      <td>small</td>\n",
       "      <td>high</td>\n",
       "      <td>unacc</td>\n",
       "    </tr>\n",
       "    <tr>\n",
       "      <th>3</th>\n",
       "      <td>vhigh</td>\n",
       "      <td>vhigh</td>\n",
       "      <td>2</td>\n",
       "      <td>2</td>\n",
       "      <td>med</td>\n",
       "      <td>low</td>\n",
       "      <td>unacc</td>\n",
       "    </tr>\n",
       "    <tr>\n",
       "      <th>4</th>\n",
       "      <td>vhigh</td>\n",
       "      <td>vhigh</td>\n",
       "      <td>2</td>\n",
       "      <td>2</td>\n",
       "      <td>med</td>\n",
       "      <td>med</td>\n",
       "      <td>unacc</td>\n",
       "    </tr>\n",
       "  </tbody>\n",
       "</table>\n",
       "</div>"
      ],
      "text/plain": [
       "  buying  maint doors persons lug_boot safety category\n",
       "0  vhigh  vhigh     2       2    small    low    unacc\n",
       "1  vhigh  vhigh     2       2    small    med    unacc\n",
       "2  vhigh  vhigh     2       2    small   high    unacc\n",
       "3  vhigh  vhigh     2       2      med    low    unacc\n",
       "4  vhigh  vhigh     2       2      med    med    unacc"
      ]
     },
     "execution_count": 611,
     "metadata": {},
     "output_type": "execute_result"
    }
   ],
   "source": [
    "c_df = pd.read_csv('car/car.csv', header = 0)\n",
    "c_df.head()\n",
    "#c_df"
   ]
  },
  {
   "cell_type": "markdown",
   "metadata": {},
   "source": [
    "\n",
    "### UCI Machine Learning repository:\n",
    "http://archive.ics.uci.edu/ml/datasets/Car+Evaluation\n",
    "\n",
    "#### Data description:\n",
    "1. 1728 Instances\n",
    "2. 6 attributes\n",
    "##### Attribute values:\n",
    "* buying:\n",
    "    - v-high, high, med, low\n",
    "* maint:\n",
    "    - v-high, high, med, low\n",
    "* doors:\n",
    "    - 2,3,4,5-more\n",
    "* persons:\n",
    "    - 2,4, more\n",
    "* lug_boot:\n",
    "    - small, med, big\n",
    "* safety:\n",
    "    - low, med, high\n",
    "\n",
    "3. calssified into three intermediate concepts: Price, Comfort, Safety\n"
   ]
  },
  {
   "cell_type": "markdown",
   "metadata": {},
   "source": [
    "### Class Distribution"
   ]
  },
  {
   "cell_type": "code",
   "execution_count": 612,
   "metadata": {
    "collapsed": false
   },
   "outputs": [
    {
     "data": {
      "image/png": "[encoded data removed]",
      "text/plain": [
       "<matplotlib.figure.Figure at 0x7f2383d7fb38>"
      ]
     },
     "metadata": {},
     "output_type": "display_data"
    }
   ],
   "source": [
    "from pylab import *\n",
    "figure(1, figsize = (6,6))\n",
    "ax = axes([0.1,0.1,0.8,0.8])\n",
    "labels = 'unacc', 'acc', 'good', 'vgood'\n",
    "fracs = [70.023, 22.222, 3.993, 3.762]\n",
    "explode=(0.05, 0, 0, 0)\n",
    "\n",
    "pie(fracs, explode=explode, labels=labels,\n",
    "                autopct='%1.1f%%', shadow=True, startangle=90)\n",
    "                \n",
    "title('Car Class Distrubution', bbox={'facecolor':'0.8', 'pad':5})\n",
    "\n",
    "show()"
   ]
  },
  {
   "cell_type": "markdown",
   "metadata": {
    "collapsed": true
   },
   "source": [
    "##### 70% of cars in the dataset of 1728 instances are labeled unacceptable. \n",
    "###### Is price  a factor for unacceptance?"
   ]
  },
  {
   "cell_type": "markdown",
   "metadata": {},
   "source": [
    "### Undestanding dataset \n",
    "### Buying cost"
   ]
  },
  {
   "cell_type": "code",
   "execution_count": 613,
   "metadata": {
    "collapsed": false
   },
   "outputs": [
    {
     "name": "stdout",
     "output_type": "stream",
     "text": [
      "Very High price and unacceptable:  360\n",
      "Very High price and acceptable :  72\n",
      "Very High price and good :  0\n",
      "Very High price and vgood :  0\n",
      "\n",
      "High price and unacceptable:  324\n",
      "High price and acceptable :  108\n",
      "High price and good :  0\n",
      "High price and vgood :  0\n",
      "\n",
      "Medium price and unacceptable:  268\n",
      "Medium price and acceptable :  115\n",
      "Medium price and good :  23\n",
      "Medium maintenance and vgood :  26\n",
      "\n",
      "Low price and unacceptable:  258\n",
      "Low price and acceptable :  89\n",
      "Low price and good :  46\n",
      "Low price and vgood :  39\n"
     ]
    }
   ],
   "source": [
    "\n",
    "b_vh_un = 0\n",
    "b_vh_ac = 0\n",
    "b_vh_go = 0\n",
    "b_vh_vg = 0\n",
    "\n",
    "b_h_un = 0\n",
    "b_h_ac = 0\n",
    "b_h_go = 0\n",
    "b_h_vg = 0\n",
    "\n",
    "b_m_un = 0\n",
    "b_m_ac = 0\n",
    "b_m_go = 0\n",
    "b_m_vg = 0\n",
    "\n",
    "b_l_un = 0\n",
    "b_l_ac = 0\n",
    "b_l_go = 0\n",
    "b_l_vg = 0\n",
    "\n",
    "for val in c_df.iterrows():\n",
    "    if (val[1].buying == 'vhigh' and val[1].category == 'unacc'):\n",
    "        b_vh_un += 1\n",
    "    elif (val[1].buying == 'vhigh' and val[1].category == 'acc'):\n",
    "        b_vh_ac += 1\n",
    "    elif (val[1].buying == 'vhigh' and val[1].category == 'good'):\n",
    "        b_vh_go += 1\n",
    "    elif (val[1].buying == 'vhigh' and val[1].category == 'vgood'):\n",
    "        b_vh_vg += 1\n",
    "        \n",
    "        \n",
    "    elif (val[1].buying == 'high' and val[1].category == 'unacc'):\n",
    "        b_h_un += 1\n",
    "    elif (val[1].buying == 'high' and val[1].category == 'acc'):\n",
    "        b_h_ac += 1\n",
    "    elif (val[1].buying == 'high' and val[1].category == 'good'):\n",
    "        b_h_go += 1\n",
    "    elif (val[1].buying == 'high' and val[1].category == 'vgood'):\n",
    "        b_h_vg += 1\n",
    "        \n",
    "        \n",
    "    elif (val[1].buying == 'med' and val[1].category == 'unacc'):\n",
    "        b_m_un += 1\n",
    "    elif (val[1].buying == 'med' and val[1].category == 'acc'):\n",
    "        b_m_ac += 1\n",
    "    elif (val[1].buying == 'med' and val[1].category == 'good'):\n",
    "        b_m_go += 1\n",
    "    elif (val[1].buying == 'med' and val[1].category == 'vgood'):\n",
    "        b_m_vg += 1\n",
    "        \n",
    "    elif (val[1].buying == 'low' and val[1].category == 'unacc'):\n",
    "        b_l_un += 1\n",
    "    elif (val[1].buying == 'low' and val[1].category == 'acc'):\n",
    "        b_l_ac += 1\n",
    "    elif (val[1].buying == 'low' and val[1].category == 'good'):\n",
    "        b_l_go += 1\n",
    "    else:\n",
    "        b_l_vg += 1\n",
    "                        \n",
    "    \n",
    "print(\"Very High price and unacceptable: \", b_vh_un)\n",
    "print(\"Very High price and acceptable : \", b_vh_ac)\n",
    "print(\"Very High price and good : \", b_vh_go)\n",
    "print(\"Very High price and vgood : \", b_vh_vg)\n",
    "print()\n",
    "\n",
    "print(\"High price and unacceptable: \", b_h_un)\n",
    "print(\"High price and acceptable : \", b_h_ac)\n",
    "print(\"High price and good : \", b_h_go)\n",
    "print(\"High price and vgood : \", b_h_vg)\n",
    "print()\n",
    "\n",
    "print(\"Medium price and unacceptable: \", b_m_un)\n",
    "print(\"Medium price and acceptable : \", b_m_ac)\n",
    "print(\"Medium price and good : \", b_m_go)\n",
    "print(\"Medium maintenance and vgood : \", b_m_vg)\n",
    "print()\n",
    "\n",
    "print(\"Low price and unacceptable: \", b_l_un)\n",
    "print(\"Low price and acceptable : \", b_l_ac)\n",
    "print(\"Low price and good : \", b_l_go)\n",
    "print(\"Low price and vgood : \", b_l_vg)"
   ]
  },
  {
   "cell_type": "markdown",
   "metadata": {
    "collapsed": true
   },
   "source": [
    "###### Observation: very high and high price do not have good or vgood rating while medium and low price have good and vgood rating but numbers are low"
   ]
  },
  {
   "cell_type": "markdown",
   "metadata": {},
   "source": [
    "### Maintenance cost"
   ]
  },
  {
   "cell_type": "code",
   "execution_count": 614,
   "metadata": {
    "collapsed": false
   },
   "outputs": [
    {
     "name": "stdout",
     "output_type": "stream",
     "text": [
      "Very High maintenance and unacceptable:  360\n",
      "Very High maintenance and acceptable :  72\n",
      "Very High maintenance and good :  0\n",
      "Very High maintenance and vgood :  0\n",
      "\n",
      "High maintenance and unacceptable:  324\n",
      "High maintenance and acceptable :  108\n",
      "High maintenance and good :  0\n",
      "High maintenance and vgood :  0\n",
      "\n",
      "Medium maintenance and unacceptable:  268\n",
      "Medium maintenance and acceptable :  115\n",
      "Medium maintenance and good :  23\n",
      "Medium maintenance and vgood :  26\n",
      "\n",
      "Low maintenance and unacceptable:  258\n",
      "Low maintenance and acceptable :  89\n",
      "Low maintenance and good :  46\n",
      "Low maintenance and vgood :  39\n"
     ]
    }
   ],
   "source": [
    "\n",
    "m_vh_un = 0\n",
    "m_vh_ac = 0\n",
    "m_vh_go = 0\n",
    "m_vh_vg = 0\n",
    "\n",
    "m_h_un = 0\n",
    "m_h_ac = 0\n",
    "m_h_go = 0\n",
    "m_h_vg = 0\n",
    "\n",
    "m_m_un = 0\n",
    "m_m_ac = 0\n",
    "m_m_go = 0\n",
    "m_m_vg = 0\n",
    "\n",
    "m_l_un = 0\n",
    "m_l_ac = 0\n",
    "m_l_go = 0\n",
    "m_l_vg = 0\n",
    "\n",
    "for val in c_df.iterrows():\n",
    "    if (val[1].maint == 'vhigh' and val[1].category == 'unacc'):\n",
    "        m_vh_un += 1\n",
    "    elif (val[1].maint == 'vhigh' and val[1].category == 'acc'):\n",
    "        m_vh_ac += 1\n",
    "    elif (val[1].maint == 'vhigh' and val[1].category == 'good'):\n",
    "        m_vh_go += 1\n",
    "    elif (val[1].maint == 'vhigh' and val[1].category == 'vgood'):\n",
    "        m_vh_vg += 1\n",
    "        \n",
    "        \n",
    "    elif (val[1].maint == 'high' and val[1].category == 'unacc'):\n",
    "        m_h_un += 1\n",
    "    elif (val[1].maint == 'high' and val[1].category == 'acc'):\n",
    "        m_h_ac += 1\n",
    "    elif (val[1].maint == 'high' and val[1].category == 'good'):\n",
    "        m_h_go += 1\n",
    "    elif (val[1].maint == 'high' and val[1].category == 'vgood'):\n",
    "        m_h_vg += 1\n",
    "        \n",
    "        \n",
    "    elif (val[1].maint == 'med' and val[1].category == 'unacc'):\n",
    "        m_m_un += 1\n",
    "    elif (val[1].maint == 'med' and val[1].category == 'acc'):\n",
    "        m_m_ac += 1\n",
    "    elif (val[1].maint == 'med' and val[1].category == 'good'):\n",
    "        m_m_go += 1\n",
    "    elif (val[1].maint == 'med' and val[1].category == 'vgood'):\n",
    "        m_m_vg += 1\n",
    "        \n",
    "    elif (val[1].maint == 'low' and val[1].category == 'unacc'):\n",
    "        m_l_un += 1\n",
    "    elif (val[1].maint == 'low' and val[1].category == 'acc'):\n",
    "        m_l_ac += 1\n",
    "    elif (val[1].maint == 'low' and val[1].category == 'good'):\n",
    "        m_l_go += 1\n",
    "    else:\n",
    "        m_l_vg += 1\n",
    "        \n",
    "\n",
    "\n",
    "print(\"Very High maintenance and unacceptable: \", b_vh_un)\n",
    "print(\"Very High maintenance and acceptable : \", b_vh_ac)\n",
    "print(\"Very High maintenance and good : \", b_vh_go)\n",
    "print(\"Very High maintenance and vgood : \", b_vh_vg)\n",
    "print()\n",
    "\n",
    "print(\"High maintenance and unacceptable: \", b_h_un)\n",
    "print(\"High maintenance and acceptable : \", b_h_ac)\n",
    "print(\"High maintenance and good : \", b_h_go)\n",
    "print(\"High maintenance and vgood : \", b_h_vg)\n",
    "print()\n",
    "\n",
    "print(\"Medium maintenance and unacceptable: \", b_m_un)\n",
    "print(\"Medium maintenance and acceptable : \", b_m_ac)\n",
    "print(\"Medium maintenance and good : \", b_m_go)\n",
    "print(\"Medium maintenance and vgood : \", b_m_vg)\n",
    "print()\n",
    "\n",
    "print(\"Low maintenance and unacceptable: \", b_l_un)\n",
    "print(\"Low maintenance and acceptable : \", b_l_ac)\n",
    "print(\"Low maintenance and good : \", b_l_go)\n",
    "print(\"Low maintenance and vgood : \", b_l_vg)"
   ]
  },
  {
   "cell_type": "markdown",
   "metadata": {
    "collapsed": true
   },
   "source": [
    "#### Observation: Buying and Maintenace cost have similar rating of cars\n",
    "\n",
    "### Buying and Maintenace Cost and Car Rating in Bar graph Representation"
   ]
  },
  {
   "cell_type": "code",
   "execution_count": 615,
   "metadata": {
    "collapsed": false
   },
   "outputs": [
    {
     "data": {
      "text/plain": [
       "<matplotlib.legend.Legend at 0x7f2383ea4470>"
      ]
     },
     "execution_count": 615,
     "metadata": {},
     "output_type": "execute_result"
    },
    {
     "data": {
      "image/png": "[encoded data removed]",
      "text/plain": [
       "<matplotlib.figure.Figure at 0x7f2383eba630>"
      ]
     },
     "metadata": {},
     "output_type": "display_data"
    }
   ],
   "source": [
    "N = 4\n",
    "\n",
    "ind = np.arange(N)\n",
    "width = 0.20\n",
    "fig, ax = plt.subplots()\n",
    "\n",
    "\n",
    "very_high = (360,72,0,0)\n",
    "rect1 = ax.bar(ind,very_high,width, color = 'b')\n",
    "\n",
    "high = (324,108,0,0)\n",
    "rect2 = ax.bar(ind+width,high,width, color = 'r')\n",
    "\n",
    "medium = (268,115,23,26)\n",
    "rect3 = ax.bar(ind+(2*width),medium,width, color = 'y')\n",
    "\n",
    "low = (258,89,46,39)\n",
    "rect4 = ax.bar(ind+(3*width),low,width, color = 'g')\n",
    "\n",
    "ax.set_ylabel('Number of instances')\n",
    "ax.set_title('Buying/Maintenance cost and car rating')\n",
    "ax.set_xticks(ind+(2*width))\n",
    "ax.set_xticklabels(('unacc','acc','good','vgood'))\n",
    "\n",
    "ax.legend((rect1[0],rect2[1],rect3[2],rect4[3]),('Very High','High','Medium','Low'))\n"
   ]
  },
  {
   "cell_type": "markdown",
   "metadata": {
    "collapsed": true
   },
   "source": [
    "#### Observation: Medium and low buying and maintenace cost shows higher rating of car.\n",
    "* Cost seems to play significant factor in rating a car.\n"
   ]
  },
  {
   "cell_type": "markdown",
   "metadata": {},
   "source": [
    "### Does comfort of a car affects rating of a car?\n",
    "#### Number of doors in a car\n"
   ]
  },
  {
   "cell_type": "code",
   "execution_count": 616,
   "metadata": {
    "collapsed": false
   },
   "outputs": [
    {
     "name": "stdout",
     "output_type": "stream",
     "text": [
      "2 doors and unacceptable:  326\n",
      "2 doors and acceptable :  81\n",
      "2 doors and good :  15\n",
      "2 doors and vgood :  10\n",
      "\n",
      "3 doors and unacceptable:  300\n",
      "3 doors and acceptable :  99\n",
      "3 doors and good :  18\n",
      "3 doors and vgood :  15\n",
      "\n",
      "4 doors and unacceptable:  292\n",
      "4 doors and acceptable :  102\n",
      "4 doors and good :  18\n",
      "4 doors and vgood :  20\n",
      "\n",
      "5 doors and more and unacceptable:  292\n",
      "5 doors and more and acceptable :  102\n",
      "5 doors and more and good :  18\n",
      "5 doors and more and vgood :  20\n"
     ]
    }
   ],
   "source": [
    "\n",
    "d_2_un = 0\n",
    "d_2_ac = 0\n",
    "d_2_go = 0\n",
    "d_2_vg = 0\n",
    "\n",
    "d_3_un = 0\n",
    "d_3_ac = 0\n",
    "d_3_go = 0\n",
    "d_3_vg = 0\n",
    "\n",
    "d_4_un = 0\n",
    "d_4_ac = 0\n",
    "d_4_go = 0\n",
    "d_4_vg = 0\n",
    "\n",
    "d_5_un = 0\n",
    "d_5_ac = 0\n",
    "d_5_go = 0\n",
    "d_5_vg = 0\n",
    "\n",
    "for val in c_df.iterrows():\n",
    "\n",
    "        \n",
    "        \n",
    "    if (val[1].doors == '2' and val[1].category == 'unacc'):\n",
    "        d_2_un += 1\n",
    "    elif (val[1].doors == '2' and val[1].category == 'acc'):\n",
    "        d_2_ac += 1\n",
    "    elif (val[1].doors == '2' and val[1].category == 'good'):\n",
    "        d_2_go += 1\n",
    "    elif (val[1].doors == '2' and val[1].category == 'vgood'):\n",
    "        d_2_vg += 1\n",
    "        \n",
    "        \n",
    "    elif (val[1].doors == '3' and val[1].category == 'unacc'):\n",
    "        d_3_un += 1\n",
    "    elif (val[1].doors == '3' and val[1].category == 'acc'):\n",
    "        d_3_ac += 1\n",
    "    elif (val[1].doors == '3' and val[1].category == 'good'):\n",
    "        d_3_go += 1\n",
    "    elif (val[1].doors == '3' and val[1].category == 'vgood'):\n",
    "        d_3_vg += 1\n",
    "        \n",
    "    elif (val[1].doors == '4' and val[1].category == 'unacc'):\n",
    "        d_4_un += 1\n",
    "    elif (val[1].doors == '4' and val[1].category == 'acc'):\n",
    "        d_4_ac += 1\n",
    "    elif (val[1].doors == '4' and val[1].category == 'good'):\n",
    "        d_4_go += 1\n",
    "    elif (val[1].doors == '4' and val[1].category == 'vgood'):\n",
    "        d_4_vg += 1\n",
    "    \n",
    "    elif (val[1].doors == '5more' and val[1].category == 'unacc'):\n",
    "        d_5_un += 1\n",
    "    elif (val[1].doors == '5more' and val[1].category == 'acc'):\n",
    "        d_5_ac += 1\n",
    "    elif (val[1].doors == '5more' and val[1].category == 'good'):\n",
    "        d_5_go += 1\n",
    "    elif (val[1].doors == '5more' and val[1].category == 'vgood'):\n",
    "        d_5_vg += 1\n",
    "        \n",
    "\n",
    "print(\"2 doors and unacceptable: \", d_2_un)\n",
    "print(\"2 doors and acceptable : \", d_2_ac)\n",
    "print(\"2 doors and good : \", d_2_go)\n",
    "print(\"2 doors and vgood : \", d_2_vg)\n",
    "print()\n",
    "\n",
    "print(\"3 doors and unacceptable: \", d_3_un)\n",
    "print(\"3 doors and acceptable : \", d_3_ac)\n",
    "print(\"3 doors and good : \", d_3_go)\n",
    "print(\"3 doors and vgood : \", d_3_vg)\n",
    "print()\n",
    "\n",
    "print(\"4 doors and unacceptable: \", d_4_un)\n",
    "print(\"4 doors and acceptable : \", d_4_ac)\n",
    "print(\"4 doors and good : \", d_4_go)\n",
    "print(\"4 doors and vgood : \", d_4_vg)\n",
    "print()\n",
    "\n",
    "print(\"5 doors and more and unacceptable: \", d_5_un)\n",
    "print(\"5 doors and more and acceptable : \", d_5_ac)\n",
    "print(\"5 doors and more and good : \", d_5_go)\n",
    "print(\"5 doors and more and vgood : \", d_5_vg)"
   ]
  },
  {
   "cell_type": "markdown",
   "metadata": {},
   "source": [
    "### Bar Graph of rating of car based on number of doors"
   ]
  },
  {
   "cell_type": "code",
   "execution_count": 617,
   "metadata": {
    "collapsed": false
   },
   "outputs": [
    {
     "data": {
      "text/plain": [
       "<matplotlib.legend.Legend at 0x7f2384082400>"
      ]
     },
     "execution_count": 617,
     "metadata": {},
     "output_type": "execute_result"
    },
    {
     "data": {
      "image/png": "[encoded data removed]",
      "text/plain": [
       "<matplotlib.figure.Figure at 0x7f2383f71978>"
      ]
     },
     "metadata": {},
     "output_type": "display_data"
    }
   ],
   "source": [
    "N = 4\n",
    "\n",
    "ind = np.arange(N)\n",
    "width = 0.22\n",
    "fig, ax = plt.subplots()\n",
    "\n",
    "\n",
    "two = (326,81,15,10)\n",
    "rect1 = ax.bar(ind,two,width, color = 'b')\n",
    "\n",
    "three = (300,99,18,15)\n",
    "rect2 = ax.bar(ind+width,three,width, color = 'r')\n",
    "\n",
    "four = (292,102,18,20)\n",
    "rect3 = ax.bar(ind+(2*width),four,width, color = 'y')\n",
    "\n",
    "five_more = (292,102,18,20)\n",
    "rect4 = ax.bar(ind+(3*width),five_more,width, color = 'g')\n",
    "\n",
    "ax.set_ylabel('Number of instances')\n",
    "ax.set_title('Number of doors and car rating')\n",
    "ax.set_xticks(ind+(2*width))\n",
    "ax.set_xticklabels(('unacc','acc','good','vgood'))\n",
    "\n",
    "ax.legend((rect1[0],rect2[1],rect3[2],rect4[3]),('2','3','4','5more'))\n"
   ]
  },
  {
   "cell_type": "markdown",
   "metadata": {
    "collapsed": true
   },
   "source": [
    "#### Observation: Rating of cars based on doors are in all categories. Cars with 2,3,4 and more doors all have high unacceptable instances.\n",
    "#### Thought: Number of doors does not seem to be a big factor in rating a car."
   ]
  },
  {
   "cell_type": "markdown",
   "metadata": {},
   "source": [
    "### Does capacity of a car (number of people in a car) affect car rating?"
   ]
  },
  {
   "cell_type": "code",
   "execution_count": 618,
   "metadata": {
    "collapsed": false
   },
   "outputs": [
    {
     "name": "stdout",
     "output_type": "stream",
     "text": [
      "2 person and unacceptable:  576\n",
      "2 person and acceptable :  0\n",
      "2 person and good :  0\n",
      "2 person and vgood :  0\n",
      "\n",
      "4 person and unacceptable:  312\n",
      "4 person and acceptable :  198\n",
      "4 person and good :  36\n",
      "4 person and vgood :  30\n",
      "\n",
      "More than 4 and unacceptable:  322\n",
      "More than 4 and acceptable :  186\n",
      "More than 4 and good :  33\n",
      "More than 4 and vgood :  35\n"
     ]
    }
   ],
   "source": [
    "p_2_un = 0\n",
    "p_2_ac = 0\n",
    "p_2_go = 0\n",
    "p_2_vg = 0\n",
    "\n",
    "p_4_un = 0\n",
    "p_4_ac = 0\n",
    "p_4_go = 0\n",
    "p_4_vg = 0\n",
    "\n",
    "p_5_un = 0\n",
    "p_5_ac = 0\n",
    "p_5_go = 0\n",
    "p_5_vg = 0\n",
    "\n",
    "for val in c_df.iterrows():           \n",
    "    if (val[1].persons == '2' and val[1].category == 'unacc'):\n",
    "        p_2_un += 1\n",
    "    elif (val[1].persons == '2' and val[1].category == 'acc'):\n",
    "        p_2_ac += 1\n",
    "    elif (val[1].persons == '2' and val[1].category == 'good'):\n",
    "        p_2_go += 1\n",
    "    elif (val[1].persons == '2' and val[1].category == 'vgood'):\n",
    "        p_2_vg += 1\n",
    "        \n",
    "        \n",
    "    elif (val[1].persons == '4' and val[1].category == 'unacc'):\n",
    "        p_4_un += 1\n",
    "    elif (val[1].persons == '4' and val[1].category == 'acc'):\n",
    "        p_4_ac += 1\n",
    "    elif (val[1].persons == '4' and val[1].category == 'good'):\n",
    "        p_4_go += 1\n",
    "    elif (val[1].persons == '4' and val[1].category == 'vgood'):\n",
    "        p_4_vg += 1\n",
    "    \n",
    "    elif (val[1].persons == 'more' and val[1].category == 'unacc'):\n",
    "         p_5_un += 1\n",
    "    elif (val[1].persons == 'more' and val[1].category == 'acc'):\n",
    "        p_5_ac += 1\n",
    "    elif (val[1].persons == 'more' and val[1].category == 'good'):\n",
    "        p_5_go += 1\n",
    "    else:\n",
    "        p_5_vg += 1\n",
    "        \n",
    "\n",
    "print(\"2 person and unacceptable: \", p_2_un)\n",
    "print(\"2 person and acceptable : \", p_2_ac)\n",
    "print(\"2 person and good : \", p_2_go)\n",
    "print(\"2 person and vgood : \", p_2_vg)\n",
    "print()\n",
    "\n",
    "print(\"4 person and unacceptable: \", p_4_un)\n",
    "print(\"4 person and acceptable : \", p_4_ac)\n",
    "print(\"4 person and good : \", p_4_go)\n",
    "print(\"4 person and vgood : \", p_4_vg)\n",
    "print()\n",
    "\n",
    "print(\"More than 4 and unacceptable: \", p_5_un)\n",
    "print(\"More than 4 and acceptable : \", p_5_ac)\n",
    "print(\"More than 4 and good : \", p_5_go)\n",
    "print(\"More than 4 and vgood : \", p_5_vg)\n"
   ]
  },
  {
   "cell_type": "markdown",
   "metadata": {
    "collapsed": true
   },
   "source": [
    "#### Observation: Capcaity of a car seems to be a huge factor in rating a car. Cars with 2 person capacity is unacceptable."
   ]
  },
  {
   "cell_type": "markdown",
   "metadata": {},
   "source": [
    "### Stacked Bar Graph represeting capacity of a car and rating it gets "
   ]
  },
  {
   "cell_type": "code",
   "execution_count": 619,
   "metadata": {
    "collapsed": false
   },
   "outputs": [
    {
     "data": {
      "text/plain": [
       "<matplotlib.legend.Legend at 0x7f23841d4b70>"
      ]
     },
     "execution_count": 619,
     "metadata": {},
     "output_type": "execute_result"
    },
    {
     "data": {
      "image/png": "[encoded data removed]",
      "text/plain": [
       "<matplotlib.figure.Figure at 0x7f238404e0f0>"
      ]
     },
     "metadata": {},
     "output_type": "display_data"
    }
   ],
   "source": [
    "N = 4\n",
    "\n",
    "ind = np.arange(N)\n",
    "width = 0.22\n",
    "\n",
    "two_pee = (576,0,0,0)\n",
    "four_pee = (312,198,36,30)\n",
    "more = (322,186,33,35)\n",
    "\n",
    "p1 = plt.bar(ind,two_pee,width,color='r')\n",
    "p2 = plt.bar(ind,four_pee,width,color='b')\n",
    "p3 = plt.bar(ind,more,width,color='y')\n",
    "\n",
    "plt.ylabel('Number of instances')\n",
    "plt.title('Number of person capacity and car rating')\n",
    "plt.xticks(ind+width/2.,('unacc','acc','good','vgood'))\n",
    "plt.yticks(np.arange(0, 600, 25))\n",
    "\n",
    "plt.legend((p1[0],p2[1],p3[2]),('2','4','more'))\n"
   ]
  },
  {
   "cell_type": "markdown",
   "metadata": {
    "collapsed": true
   },
   "source": [
    "### Does safety of a car affects rating of a car?"
   ]
  },
  {
   "cell_type": "code",
   "execution_count": 620,
   "metadata": {
    "collapsed": false
   },
   "outputs": [
    {
     "name": "stdout",
     "output_type": "stream",
     "text": [
      "Low safety and unacceptable:  576\n",
      "Low safety and acceptable :  0\n",
      "Low safety and good :  0\n",
      "Low safety and vgood :  0\n",
      "\n",
      "Medium safety and unacceptable:  357\n",
      "Medium safety and acceptable :  0\n",
      "Medium safety and good :  0\n",
      "Medium safety and vgood :  0\n",
      "\n",
      "High safety and unacceptable:  277\n",
      "High safety and acceptable :  0\n",
      "High safety and good :  0\n",
      "High safety and vgood :  518\n"
     ]
    }
   ],
   "source": [
    "s_l_un = 0\n",
    "s_l_ac = 0\n",
    "s_l_go = 0\n",
    "s_l_vg = 0\n",
    "\n",
    "s_m_un = 0\n",
    "s_m_ac = 0\n",
    "s_m_go = 0\n",
    "s_m_vg = 0\n",
    "\n",
    "s_h_un = 0\n",
    "s_h_ac = 0\n",
    "s_h_go = 0\n",
    "s_h_vg = 0\n",
    "\n",
    "for val in c_df.iterrows():   \n",
    "    if (val[1].safety == 'low' and val[1].category == 'unacc'):\n",
    "        s_l_un += 1\n",
    "    elif (val[1].safety == 'low' and val[1].category == 'acc'):\n",
    "        s_l_ac += 1\n",
    "    elif (val[1].safety == 'low' and val[1].category == 'good'):\n",
    "        s_l_go += 1\n",
    "    elif (val[1].safety == 'low' and val[1].category == 'vgood'):\n",
    "        s_l_vg += 1\n",
    "        \n",
    "        \n",
    "    elif (val[1].safety == 'med' and val[1].category == 'unacc'):\n",
    "        s_m_un += 1\n",
    "    elif (val[1].persons == 'med' and val[1].category == 'acc'):\n",
    "        s_m_ac += 1\n",
    "    elif (val[1].persons == 'med' and val[1].category == 'good'):\n",
    "        s_m_go += 1\n",
    "    elif (val[1].persons == 'med' and val[1].category == 'vgood'):\n",
    "        s_m_vg += 1\n",
    "    \n",
    "    elif (val[1].safety == 'high' and val[1].category == 'unacc'):\n",
    "         s_h_un += 1\n",
    "    elif (val[1].persons == 'high' and val[1].category == 'acc'):\n",
    "        s_h_ac += 1\n",
    "    elif (val[1].persons == 'high' and val[1].category == 'good'):\n",
    "        s_h_go += 1\n",
    "    else:\n",
    "        s_h_vg += 1\n",
    "        \n",
    "\n",
    "print(\"Low safety and unacceptable: \", s_l_un)\n",
    "print(\"Low safety and acceptable : \", s_l_ac)\n",
    "print(\"Low safety and good : \", s_l_go)\n",
    "print(\"Low safety and vgood : \", s_l_vg)\n",
    "print()\n",
    "\n",
    "print(\"Medium safety and unacceptable: \", s_m_un)\n",
    "print(\"Medium safety and acceptable : \", s_m_ac)\n",
    "print(\"Medium safety and good : \", s_m_go)\n",
    "print(\"Medium safety and vgood : \", s_m_vg)\n",
    "print()\n",
    "\n",
    "print(\"High safety and unacceptable: \", s_h_un)\n",
    "print(\"High safety and acceptable : \", s_h_ac)\n",
    "print(\"High safety and good : \", s_h_go)\n",
    "print(\"High safety and vgood : \", s_h_vg)\n"
   ]
  },
  {
   "cell_type": "markdown",
   "metadata": {
    "collapsed": true
   },
   "source": [
    "#### Observation: Low and medium safety cars all unacceptable\n",
    "\n",
    "### Stacked Bar Graph represeting safety of a car and rating it gets "
   ]
  },
  {
   "cell_type": "code",
   "execution_count": 621,
   "metadata": {
    "collapsed": false
   },
   "outputs": [
    {
     "data": {
      "text/plain": [
       "<matplotlib.legend.Legend at 0x7f2383f4e9e8>"
      ]
     },
     "execution_count": 621,
     "metadata": {},
     "output_type": "execute_result"
    },
    {
     "data": {
      "image/png": "[encoded data removed]",
      "text/plain": [
       "<matplotlib.figure.Figure at 0x7f238409d3c8>"
      ]
     },
     "metadata": {},
     "output_type": "display_data"
    }
   ],
   "source": [
    "N = 4\n",
    "\n",
    "ind = np.arange(N)\n",
    "width = 0.22\n",
    "\n",
    "low = (576,0,0,0)\n",
    "med = (357,0,0,0)\n",
    "high = (277,0,0,518)\n",
    "\n",
    "p1 = plt.bar(ind,low,width,color='r')\n",
    "p2 = plt.bar(ind,med,width,color='b')\n",
    "p3 = plt.bar(ind,high,width,color='y')\n",
    "\n",
    "plt.ylabel('Number of instances')\n",
    "plt.title('Safety and car rating')\n",
    "plt.xticks(ind+width/2.,('unacc','acc','good','vgood'))\n",
    "plt.yticks(np.arange(0, 600, 25))\n",
    "\n",
    "plt.legend((p1[0],p2[1],p3[2]),('low','Medium','High'))\n"
   ]
  },
  {
   "cell_type": "markdown",
   "metadata": {
    "collapsed": true
   },
   "source": [
    "#### Observations: \n",
    "* low and medium safety cars falls straightly into unacceptable. High safety cars are acceptable **however** substantial part is also in unacceptable category as well. other factor?\n",
    "* Safety attributes fall in either unacceptable or vgood category. \n",
    "* No intermediate ratings (acc, good). \n",
    "#### Thought: we don't take risk with our lives."
   ]
  },
  {
   "cell_type": "markdown",
   "metadata": {
    "collapsed": true
   },
   "source": [
    "### Low Safety and only 2 people capacity cars seems to be an important factor in rating cars "
   ]
  },
  {
   "cell_type": "code",
   "execution_count": 622,
   "metadata": {
    "collapsed": false
   },
   "outputs": [],
   "source": [
    "#c_df.info()"
   ]
  },
  {
   "cell_type": "markdown",
   "metadata": {},
   "source": [
    "### Converting dataset to numerical ratings"
   ]
  },
  {
   "cell_type": "code",
   "execution_count": 623,
   "metadata": {
    "collapsed": false
   },
   "outputs": [
    {
     "data": {
      "text/html": [
       "<div>\n",
       "<table border=\"1\" class=\"dataframe\">\n",
       "  <thead>\n",
       "    <tr style=\"text-align: right;\">\n",
       "      <th></th>\n",
       "      <th>buying</th>\n",
       "      <th>maint</th>\n",
       "      <th>doors</th>\n",
       "      <th>persons</th>\n",
       "      <th>lug_boot</th>\n",
       "      <th>safety</th>\n",
       "      <th>category</th>\n",
       "    </tr>\n",
       "  </thead>\n",
       "  <tbody>\n",
       "    <tr>\n",
       "      <th>0</th>\n",
       "      <td>4</td>\n",
       "      <td>4</td>\n",
       "      <td>2</td>\n",
       "      <td>2</td>\n",
       "      <td>1</td>\n",
       "      <td>1</td>\n",
       "      <td>1</td>\n",
       "    </tr>\n",
       "    <tr>\n",
       "      <th>1</th>\n",
       "      <td>4</td>\n",
       "      <td>4</td>\n",
       "      <td>2</td>\n",
       "      <td>2</td>\n",
       "      <td>1</td>\n",
       "      <td>2</td>\n",
       "      <td>1</td>\n",
       "    </tr>\n",
       "    <tr>\n",
       "      <th>2</th>\n",
       "      <td>4</td>\n",
       "      <td>4</td>\n",
       "      <td>2</td>\n",
       "      <td>2</td>\n",
       "      <td>1</td>\n",
       "      <td>3</td>\n",
       "      <td>1</td>\n",
       "    </tr>\n",
       "    <tr>\n",
       "      <th>3</th>\n",
       "      <td>4</td>\n",
       "      <td>4</td>\n",
       "      <td>2</td>\n",
       "      <td>2</td>\n",
       "      <td>2</td>\n",
       "      <td>1</td>\n",
       "      <td>1</td>\n",
       "    </tr>\n",
       "    <tr>\n",
       "      <th>4</th>\n",
       "      <td>4</td>\n",
       "      <td>4</td>\n",
       "      <td>2</td>\n",
       "      <td>2</td>\n",
       "      <td>2</td>\n",
       "      <td>2</td>\n",
       "      <td>1</td>\n",
       "    </tr>\n",
       "    <tr>\n",
       "      <th>5</th>\n",
       "      <td>4</td>\n",
       "      <td>4</td>\n",
       "      <td>2</td>\n",
       "      <td>2</td>\n",
       "      <td>2</td>\n",
       "      <td>3</td>\n",
       "      <td>1</td>\n",
       "    </tr>\n",
       "    <tr>\n",
       "      <th>6</th>\n",
       "      <td>4</td>\n",
       "      <td>4</td>\n",
       "      <td>2</td>\n",
       "      <td>2</td>\n",
       "      <td>3</td>\n",
       "      <td>1</td>\n",
       "      <td>1</td>\n",
       "    </tr>\n",
       "    <tr>\n",
       "      <th>7</th>\n",
       "      <td>4</td>\n",
       "      <td>4</td>\n",
       "      <td>2</td>\n",
       "      <td>2</td>\n",
       "      <td>3</td>\n",
       "      <td>2</td>\n",
       "      <td>1</td>\n",
       "    </tr>\n",
       "    <tr>\n",
       "      <th>8</th>\n",
       "      <td>4</td>\n",
       "      <td>4</td>\n",
       "      <td>2</td>\n",
       "      <td>2</td>\n",
       "      <td>3</td>\n",
       "      <td>3</td>\n",
       "      <td>1</td>\n",
       "    </tr>\n",
       "    <tr>\n",
       "      <th>9</th>\n",
       "      <td>4</td>\n",
       "      <td>4</td>\n",
       "      <td>2</td>\n",
       "      <td>4</td>\n",
       "      <td>1</td>\n",
       "      <td>1</td>\n",
       "      <td>1</td>\n",
       "    </tr>\n",
       "    <tr>\n",
       "      <th>10</th>\n",
       "      <td>4</td>\n",
       "      <td>4</td>\n",
       "      <td>2</td>\n",
       "      <td>4</td>\n",
       "      <td>1</td>\n",
       "      <td>2</td>\n",
       "      <td>1</td>\n",
       "    </tr>\n",
       "    <tr>\n",
       "      <th>11</th>\n",
       "      <td>4</td>\n",
       "      <td>4</td>\n",
       "      <td>2</td>\n",
       "      <td>4</td>\n",
       "      <td>1</td>\n",
       "      <td>3</td>\n",
       "      <td>1</td>\n",
       "    </tr>\n",
       "    <tr>\n",
       "      <th>12</th>\n",
       "      <td>4</td>\n",
       "      <td>4</td>\n",
       "      <td>2</td>\n",
       "      <td>4</td>\n",
       "      <td>2</td>\n",
       "      <td>1</td>\n",
       "      <td>1</td>\n",
       "    </tr>\n",
       "    <tr>\n",
       "      <th>13</th>\n",
       "      <td>4</td>\n",
       "      <td>4</td>\n",
       "      <td>2</td>\n",
       "      <td>4</td>\n",
       "      <td>2</td>\n",
       "      <td>2</td>\n",
       "      <td>1</td>\n",
       "    </tr>\n",
       "    <tr>\n",
       "      <th>14</th>\n",
       "      <td>4</td>\n",
       "      <td>4</td>\n",
       "      <td>2</td>\n",
       "      <td>4</td>\n",
       "      <td>2</td>\n",
       "      <td>3</td>\n",
       "      <td>1</td>\n",
       "    </tr>\n",
       "    <tr>\n",
       "      <th>15</th>\n",
       "      <td>4</td>\n",
       "      <td>4</td>\n",
       "      <td>2</td>\n",
       "      <td>4</td>\n",
       "      <td>3</td>\n",
       "      <td>1</td>\n",
       "      <td>1</td>\n",
       "    </tr>\n",
       "    <tr>\n",
       "      <th>16</th>\n",
       "      <td>4</td>\n",
       "      <td>4</td>\n",
       "      <td>2</td>\n",
       "      <td>4</td>\n",
       "      <td>3</td>\n",
       "      <td>2</td>\n",
       "      <td>1</td>\n",
       "    </tr>\n",
       "    <tr>\n",
       "      <th>17</th>\n",
       "      <td>4</td>\n",
       "      <td>4</td>\n",
       "      <td>2</td>\n",
       "      <td>4</td>\n",
       "      <td>3</td>\n",
       "      <td>3</td>\n",
       "      <td>1</td>\n",
       "    </tr>\n",
       "    <tr>\n",
       "      <th>18</th>\n",
       "      <td>4</td>\n",
       "      <td>4</td>\n",
       "      <td>2</td>\n",
       "      <td>5</td>\n",
       "      <td>1</td>\n",
       "      <td>1</td>\n",
       "      <td>1</td>\n",
       "    </tr>\n",
       "    <tr>\n",
       "      <th>19</th>\n",
       "      <td>4</td>\n",
       "      <td>4</td>\n",
       "      <td>2</td>\n",
       "      <td>5</td>\n",
       "      <td>1</td>\n",
       "      <td>2</td>\n",
       "      <td>1</td>\n",
       "    </tr>\n",
       "    <tr>\n",
       "      <th>20</th>\n",
       "      <td>4</td>\n",
       "      <td>4</td>\n",
       "      <td>2</td>\n",
       "      <td>5</td>\n",
       "      <td>1</td>\n",
       "      <td>3</td>\n",
       "      <td>1</td>\n",
       "    </tr>\n",
       "    <tr>\n",
       "      <th>21</th>\n",
       "      <td>4</td>\n",
       "      <td>4</td>\n",
       "      <td>2</td>\n",
       "      <td>5</td>\n",
       "      <td>2</td>\n",
       "      <td>1</td>\n",
       "      <td>1</td>\n",
       "    </tr>\n",
       "    <tr>\n",
       "      <th>22</th>\n",
       "      <td>4</td>\n",
       "      <td>4</td>\n",
       "      <td>2</td>\n",
       "      <td>5</td>\n",
       "      <td>2</td>\n",
       "      <td>2</td>\n",
       "      <td>1</td>\n",
       "    </tr>\n",
       "    <tr>\n",
       "      <th>23</th>\n",
       "      <td>4</td>\n",
       "      <td>4</td>\n",
       "      <td>2</td>\n",
       "      <td>5</td>\n",
       "      <td>2</td>\n",
       "      <td>3</td>\n",
       "      <td>1</td>\n",
       "    </tr>\n",
       "    <tr>\n",
       "      <th>24</th>\n",
       "      <td>4</td>\n",
       "      <td>4</td>\n",
       "      <td>2</td>\n",
       "      <td>5</td>\n",
       "      <td>3</td>\n",
       "      <td>1</td>\n",
       "      <td>1</td>\n",
       "    </tr>\n",
       "    <tr>\n",
       "      <th>25</th>\n",
       "      <td>4</td>\n",
       "      <td>4</td>\n",
       "      <td>2</td>\n",
       "      <td>5</td>\n",
       "      <td>3</td>\n",
       "      <td>2</td>\n",
       "      <td>1</td>\n",
       "    </tr>\n",
       "    <tr>\n",
       "      <th>26</th>\n",
       "      <td>4</td>\n",
       "      <td>4</td>\n",
       "      <td>2</td>\n",
       "      <td>5</td>\n",
       "      <td>3</td>\n",
       "      <td>3</td>\n",
       "      <td>1</td>\n",
       "    </tr>\n",
       "    <tr>\n",
       "      <th>27</th>\n",
       "      <td>4</td>\n",
       "      <td>4</td>\n",
       "      <td>3</td>\n",
       "      <td>2</td>\n",
       "      <td>1</td>\n",
       "      <td>1</td>\n",
       "      <td>1</td>\n",
       "    </tr>\n",
       "    <tr>\n",
       "      <th>28</th>\n",
       "      <td>4</td>\n",
       "      <td>4</td>\n",
       "      <td>3</td>\n",
       "      <td>2</td>\n",
       "      <td>1</td>\n",
       "      <td>2</td>\n",
       "      <td>1</td>\n",
       "    </tr>\n",
       "    <tr>\n",
       "      <th>29</th>\n",
       "      <td>4</td>\n",
       "      <td>4</td>\n",
       "      <td>3</td>\n",
       "      <td>2</td>\n",
       "      <td>1</td>\n",
       "      <td>3</td>\n",
       "      <td>1</td>\n",
       "    </tr>\n",
       "    <tr>\n",
       "      <th>...</th>\n",
       "      <td>...</td>\n",
       "      <td>...</td>\n",
       "      <td>...</td>\n",
       "      <td>...</td>\n",
       "      <td>...</td>\n",
       "      <td>...</td>\n",
       "      <td>...</td>\n",
       "    </tr>\n",
       "    <tr>\n",
       "      <th>1698</th>\n",
       "      <td>1</td>\n",
       "      <td>1</td>\n",
       "      <td>4</td>\n",
       "      <td>5</td>\n",
       "      <td>3</td>\n",
       "      <td>1</td>\n",
       "      <td>1</td>\n",
       "    </tr>\n",
       "    <tr>\n",
       "      <th>1699</th>\n",
       "      <td>1</td>\n",
       "      <td>1</td>\n",
       "      <td>4</td>\n",
       "      <td>5</td>\n",
       "      <td>3</td>\n",
       "      <td>2</td>\n",
       "      <td>3</td>\n",
       "    </tr>\n",
       "    <tr>\n",
       "      <th>1700</th>\n",
       "      <td>1</td>\n",
       "      <td>1</td>\n",
       "      <td>4</td>\n",
       "      <td>5</td>\n",
       "      <td>3</td>\n",
       "      <td>3</td>\n",
       "      <td>4</td>\n",
       "    </tr>\n",
       "    <tr>\n",
       "      <th>1701</th>\n",
       "      <td>1</td>\n",
       "      <td>1</td>\n",
       "      <td>6</td>\n",
       "      <td>2</td>\n",
       "      <td>1</td>\n",
       "      <td>1</td>\n",
       "      <td>1</td>\n",
       "    </tr>\n",
       "    <tr>\n",
       "      <th>1702</th>\n",
       "      <td>1</td>\n",
       "      <td>1</td>\n",
       "      <td>6</td>\n",
       "      <td>2</td>\n",
       "      <td>1</td>\n",
       "      <td>2</td>\n",
       "      <td>1</td>\n",
       "    </tr>\n",
       "    <tr>\n",
       "      <th>1703</th>\n",
       "      <td>1</td>\n",
       "      <td>1</td>\n",
       "      <td>6</td>\n",
       "      <td>2</td>\n",
       "      <td>1</td>\n",
       "      <td>3</td>\n",
       "      <td>1</td>\n",
       "    </tr>\n",
       "    <tr>\n",
       "      <th>1704</th>\n",
       "      <td>1</td>\n",
       "      <td>1</td>\n",
       "      <td>6</td>\n",
       "      <td>2</td>\n",
       "      <td>2</td>\n",
       "      <td>1</td>\n",
       "      <td>1</td>\n",
       "    </tr>\n",
       "    <tr>\n",
       "      <th>1705</th>\n",
       "      <td>1</td>\n",
       "      <td>1</td>\n",
       "      <td>6</td>\n",
       "      <td>2</td>\n",
       "      <td>2</td>\n",
       "      <td>2</td>\n",
       "      <td>1</td>\n",
       "    </tr>\n",
       "    <tr>\n",
       "      <th>1706</th>\n",
       "      <td>1</td>\n",
       "      <td>1</td>\n",
       "      <td>6</td>\n",
       "      <td>2</td>\n",
       "      <td>2</td>\n",
       "      <td>3</td>\n",
       "      <td>1</td>\n",
       "    </tr>\n",
       "    <tr>\n",
       "      <th>1707</th>\n",
       "      <td>1</td>\n",
       "      <td>1</td>\n",
       "      <td>6</td>\n",
       "      <td>2</td>\n",
       "      <td>3</td>\n",
       "      <td>1</td>\n",
       "      <td>1</td>\n",
       "    </tr>\n",
       "    <tr>\n",
       "      <th>1708</th>\n",
       "      <td>1</td>\n",
       "      <td>1</td>\n",
       "      <td>6</td>\n",
       "      <td>2</td>\n",
       "      <td>3</td>\n",
       "      <td>2</td>\n",
       "      <td>1</td>\n",
       "    </tr>\n",
       "    <tr>\n",
       "      <th>1709</th>\n",
       "      <td>1</td>\n",
       "      <td>1</td>\n",
       "      <td>6</td>\n",
       "      <td>2</td>\n",
       "      <td>3</td>\n",
       "      <td>3</td>\n",
       "      <td>1</td>\n",
       "    </tr>\n",
       "    <tr>\n",
       "      <th>1710</th>\n",
       "      <td>1</td>\n",
       "      <td>1</td>\n",
       "      <td>6</td>\n",
       "      <td>4</td>\n",
       "      <td>1</td>\n",
       "      <td>1</td>\n",
       "      <td>1</td>\n",
       "    </tr>\n",
       "    <tr>\n",
       "      <th>1711</th>\n",
       "      <td>1</td>\n",
       "      <td>1</td>\n",
       "      <td>6</td>\n",
       "      <td>4</td>\n",
       "      <td>1</td>\n",
       "      <td>2</td>\n",
       "      <td>2</td>\n",
       "    </tr>\n",
       "    <tr>\n",
       "      <th>1712</th>\n",
       "      <td>1</td>\n",
       "      <td>1</td>\n",
       "      <td>6</td>\n",
       "      <td>4</td>\n",
       "      <td>1</td>\n",
       "      <td>3</td>\n",
       "      <td>3</td>\n",
       "    </tr>\n",
       "    <tr>\n",
       "      <th>1713</th>\n",
       "      <td>1</td>\n",
       "      <td>1</td>\n",
       "      <td>6</td>\n",
       "      <td>4</td>\n",
       "      <td>2</td>\n",
       "      <td>1</td>\n",
       "      <td>1</td>\n",
       "    </tr>\n",
       "    <tr>\n",
       "      <th>1714</th>\n",
       "      <td>1</td>\n",
       "      <td>1</td>\n",
       "      <td>6</td>\n",
       "      <td>4</td>\n",
       "      <td>2</td>\n",
       "      <td>2</td>\n",
       "      <td>3</td>\n",
       "    </tr>\n",
       "    <tr>\n",
       "      <th>1715</th>\n",
       "      <td>1</td>\n",
       "      <td>1</td>\n",
       "      <td>6</td>\n",
       "      <td>4</td>\n",
       "      <td>2</td>\n",
       "      <td>3</td>\n",
       "      <td>4</td>\n",
       "    </tr>\n",
       "    <tr>\n",
       "      <th>1716</th>\n",
       "      <td>1</td>\n",
       "      <td>1</td>\n",
       "      <td>6</td>\n",
       "      <td>4</td>\n",
       "      <td>3</td>\n",
       "      <td>1</td>\n",
       "      <td>1</td>\n",
       "    </tr>\n",
       "    <tr>\n",
       "      <th>1717</th>\n",
       "      <td>1</td>\n",
       "      <td>1</td>\n",
       "      <td>6</td>\n",
       "      <td>4</td>\n",
       "      <td>3</td>\n",
       "      <td>2</td>\n",
       "      <td>3</td>\n",
       "    </tr>\n",
       "    <tr>\n",
       "      <th>1718</th>\n",
       "      <td>1</td>\n",
       "      <td>1</td>\n",
       "      <td>6</td>\n",
       "      <td>4</td>\n",
       "      <td>3</td>\n",
       "      <td>3</td>\n",
       "      <td>4</td>\n",
       "    </tr>\n",
       "    <tr>\n",
       "      <th>1719</th>\n",
       "      <td>1</td>\n",
       "      <td>1</td>\n",
       "      <td>6</td>\n",
       "      <td>5</td>\n",
       "      <td>1</td>\n",
       "      <td>1</td>\n",
       "      <td>1</td>\n",
       "    </tr>\n",
       "    <tr>\n",
       "      <th>1720</th>\n",
       "      <td>1</td>\n",
       "      <td>1</td>\n",
       "      <td>6</td>\n",
       "      <td>5</td>\n",
       "      <td>1</td>\n",
       "      <td>2</td>\n",
       "      <td>2</td>\n",
       "    </tr>\n",
       "    <tr>\n",
       "      <th>1721</th>\n",
       "      <td>1</td>\n",
       "      <td>1</td>\n",
       "      <td>6</td>\n",
       "      <td>5</td>\n",
       "      <td>1</td>\n",
       "      <td>3</td>\n",
       "      <td>3</td>\n",
       "    </tr>\n",
       "    <tr>\n",
       "      <th>1722</th>\n",
       "      <td>1</td>\n",
       "      <td>1</td>\n",
       "      <td>6</td>\n",
       "      <td>5</td>\n",
       "      <td>2</td>\n",
       "      <td>1</td>\n",
       "      <td>1</td>\n",
       "    </tr>\n",
       "    <tr>\n",
       "      <th>1723</th>\n",
       "      <td>1</td>\n",
       "      <td>1</td>\n",
       "      <td>6</td>\n",
       "      <td>5</td>\n",
       "      <td>2</td>\n",
       "      <td>2</td>\n",
       "      <td>3</td>\n",
       "    </tr>\n",
       "    <tr>\n",
       "      <th>1724</th>\n",
       "      <td>1</td>\n",
       "      <td>1</td>\n",
       "      <td>6</td>\n",
       "      <td>5</td>\n",
       "      <td>2</td>\n",
       "      <td>3</td>\n",
       "      <td>4</td>\n",
       "    </tr>\n",
       "    <tr>\n",
       "      <th>1725</th>\n",
       "      <td>1</td>\n",
       "      <td>1</td>\n",
       "      <td>6</td>\n",
       "      <td>5</td>\n",
       "      <td>3</td>\n",
       "      <td>1</td>\n",
       "      <td>1</td>\n",
       "    </tr>\n",
       "    <tr>\n",
       "      <th>1726</th>\n",
       "      <td>1</td>\n",
       "      <td>1</td>\n",
       "      <td>6</td>\n",
       "      <td>5</td>\n",
       "      <td>3</td>\n",
       "      <td>2</td>\n",
       "      <td>3</td>\n",
       "    </tr>\n",
       "    <tr>\n",
       "      <th>1727</th>\n",
       "      <td>1</td>\n",
       "      <td>1</td>\n",
       "      <td>6</td>\n",
       "      <td>5</td>\n",
       "      <td>3</td>\n",
       "      <td>3</td>\n",
       "      <td>4</td>\n",
       "    </tr>\n",
       "  </tbody>\n",
       "</table>\n",
       "<p>1728 rows × 7 columns</p>\n",
       "</div>"
      ],
      "text/plain": [
       "      buying  maint doors persons  lug_boot  safety  category\n",
       "0          4      4     2       2         1       1         1\n",
       "1          4      4     2       2         1       2         1\n",
       "2          4      4     2       2         1       3         1\n",
       "3          4      4     2       2         2       1         1\n",
       "4          4      4     2       2         2       2         1\n",
       "5          4      4     2       2         2       3         1\n",
       "6          4      4     2       2         3       1         1\n",
       "7          4      4     2       2         3       2         1\n",
       "8          4      4     2       2         3       3         1\n",
       "9          4      4     2       4         1       1         1\n",
       "10         4      4     2       4         1       2         1\n",
       "11         4      4     2       4         1       3         1\n",
       "12         4      4     2       4         2       1         1\n",
       "13         4      4     2       4         2       2         1\n",
       "14         4      4     2       4         2       3         1\n",
       "15         4      4     2       4         3       1         1\n",
       "16         4      4     2       4         3       2         1\n",
       "17         4      4     2       4         3       3         1\n",
       "18         4      4     2       5         1       1         1\n",
       "19         4      4     2       5         1       2         1\n",
       "20         4      4     2       5         1       3         1\n",
       "21         4      4     2       5         2       1         1\n",
       "22         4      4     2       5         2       2         1\n",
       "23         4      4     2       5         2       3         1\n",
       "24         4      4     2       5         3       1         1\n",
       "25         4      4     2       5         3       2         1\n",
       "26         4      4     2       5         3       3         1\n",
       "27         4      4     3       2         1       1         1\n",
       "28         4      4     3       2         1       2         1\n",
       "29         4      4     3       2         1       3         1\n",
       "...      ...    ...   ...     ...       ...     ...       ...\n",
       "1698       1      1     4       5         3       1         1\n",
       "1699       1      1     4       5         3       2         3\n",
       "1700       1      1     4       5         3       3         4\n",
       "1701       1      1     6       2         1       1         1\n",
       "1702       1      1     6       2         1       2         1\n",
       "1703       1      1     6       2         1       3         1\n",
       "1704       1      1     6       2         2       1         1\n",
       "1705       1      1     6       2         2       2         1\n",
       "1706       1      1     6       2         2       3         1\n",
       "1707       1      1     6       2         3       1         1\n",
       "1708       1      1     6       2         3       2         1\n",
       "1709       1      1     6       2         3       3         1\n",
       "1710       1      1     6       4         1       1         1\n",
       "1711       1      1     6       4         1       2         2\n",
       "1712       1      1     6       4         1       3         3\n",
       "1713       1      1     6       4         2       1         1\n",
       "1714       1      1     6       4         2       2         3\n",
       "1715       1      1     6       4         2       3         4\n",
       "1716       1      1     6       4         3       1         1\n",
       "1717       1      1     6       4         3       2         3\n",
       "1718       1      1     6       4         3       3         4\n",
       "1719       1      1     6       5         1       1         1\n",
       "1720       1      1     6       5         1       2         2\n",
       "1721       1      1     6       5         1       3         3\n",
       "1722       1      1     6       5         2       1         1\n",
       "1723       1      1     6       5         2       2         3\n",
       "1724       1      1     6       5         2       3         4\n",
       "1725       1      1     6       5         3       1         1\n",
       "1726       1      1     6       5         3       2         3\n",
       "1727       1      1     6       5         3       3         4\n",
       "\n",
       "[1728 rows x 7 columns]"
      ]
     },
     "execution_count": 623,
     "metadata": {},
     "output_type": "execute_result"
    }
   ],
   "source": [
    "#Maintenance and buying\n",
    "c_df = c_df.replace('vhigh',4)\n",
    "c_df = c_df.replace('high',3)\n",
    "c_df = c_df.replace('med',2)\n",
    "c_df = c_df.replace('low',1)\n",
    "\n",
    "#Doors and person\n",
    "c_df = c_df.replace('5more',6)\n",
    "c_df = c_df.replace('more',5)\n",
    "\n",
    "#Safety and Size of Luggage boot\n",
    "c_df = c_df.replace('big',3)\n",
    "c_df = c_df.replace('med',2)\n",
    "c_df = c_df.replace('small',1)\n",
    "\n",
    "#class\n",
    "c_df = c_df.replace('unacc',1)\n",
    "c_df = c_df.replace('acc',2)\n",
    "c_df = c_df.replace('good',3)\n",
    "c_df = c_df.replace('vgood',4)\n",
    "\n",
    "\n",
    "#c_df.head()\n",
    "c_df\n",
    "\n"
   ]
  },
  {
   "cell_type": "code",
   "execution_count": 624,
   "metadata": {
    "collapsed": false
   },
   "outputs": [
    {
     "data": {
      "text/plain": [
       "array([[4, 4, '2', ..., 1, 1, 1],\n",
       "       [4, 4, '2', ..., 1, 2, 1],\n",
       "       [4, 4, '2', ..., 1, 3, 1],\n",
       "       ..., \n",
       "       [1, 1, 6, ..., 3, 1, 1],\n",
       "       [1, 1, 6, ..., 3, 2, 3],\n",
       "       [1, 1, 6, ..., 3, 3, 4]], dtype=object)"
      ]
     },
     "execution_count": 624,
     "metadata": {},
     "output_type": "execute_result"
    }
   ],
   "source": [
    "#extracting c_df values\n",
    "car = c_df.values \n",
    "car"
   ]
  },
  {
   "cell_type": "code",
   "execution_count": 625,
   "metadata": {
    "collapsed": false
   },
   "outputs": [
    {
     "data": {
      "text/plain": [
       "array([[4, 4, '2', '2', 1, 1],\n",
       "       [4, 4, '2', '2', 1, 2],\n",
       "       [4, 4, '2', '2', 1, 3],\n",
       "       ..., \n",
       "       [1, 1, 6, 5, 3, 1],\n",
       "       [1, 1, 6, 5, 3, 2],\n",
       "       [1, 1, 6, 5, 3, 3]], dtype=object)"
      ]
     },
     "execution_count": 625,
     "metadata": {},
     "output_type": "execute_result"
    }
   ],
   "source": [
    "#splitting the data to attributes and label\n",
    "X,y = car[:,:6],car[:,6]\n",
    "X"
   ]
  },
  {
   "cell_type": "code",
   "execution_count": 626,
   "metadata": {
    "collapsed": false
   },
   "outputs": [
    {
     "data": {
      "text/plain": [
       "array([1, 1, 1, ..., 1, 3, 4], dtype=object)"
      ]
     },
     "execution_count": 626,
     "metadata": {},
     "output_type": "execute_result"
    }
   ],
   "source": [
    "y"
   ]
  },
  {
   "cell_type": "code",
   "execution_count": 627,
   "metadata": {
    "collapsed": false
   },
   "outputs": [
    {
     "data": {
      "text/plain": [
       "array([[4, 4, 2, 2, 1, 1],\n",
       "       [4, 4, 2, 2, 1, 2],\n",
       "       [4, 4, 2, 2, 1, 3],\n",
       "       ..., \n",
       "       [1, 1, 6, 5, 3, 1],\n",
       "       [1, 1, 6, 5, 3, 2],\n",
       "       [1, 1, 6, 5, 3, 3]])"
      ]
     },
     "execution_count": 627,
     "metadata": {},
     "output_type": "execute_result"
    }
   ],
   "source": [
    "#converting values are int\n",
    "X,y = X.astype(int), y.astype(int)\n",
    "X"
   ]
  },
  {
   "cell_type": "code",
   "execution_count": 628,
   "metadata": {
    "collapsed": false
   },
   "outputs": [
    {
     "data": {
      "text/plain": [
       "array([1, 1, 1, ..., 1, 3, 4])"
      ]
     },
     "execution_count": 628,
     "metadata": {},
     "output_type": "execute_result"
    }
   ],
   "source": [
    "y"
   ]
  },
  {
   "cell_type": "code",
   "execution_count": 629,
   "metadata": {
    "collapsed": false
   },
   "outputs": [],
   "source": [
    "#cross validation\n",
    "X_train, X_test, y_train, y_test = train_test_split(X,y,test_size = 0.3,random_state = 0)\n"
   ]
  },
  {
   "cell_type": "markdown",
   "metadata": {},
   "source": [
    "### Perceptron"
   ]
  },
  {
   "cell_type": "code",
   "execution_count": 630,
   "metadata": {
    "collapsed": false
   },
   "outputs": [
    {
     "data": {
      "text/plain": [
       "Perceptron(alpha=0.0001, class_weight=None, eta0=1.0, fit_intercept=True,\n",
       "      n_iter=5, n_jobs=1, penalty=None, random_state=0, shuffle=True,\n",
       "      verbose=0, warm_start=False)"
      ]
     },
     "execution_count": 630,
     "metadata": {},
     "output_type": "execute_result"
    }
   ],
   "source": [
    "#Using Perceptron\n",
    "percep = Perceptron()\n",
    "percep.fit(X_train, y_train)\n"
   ]
  },
  {
   "cell_type": "code",
   "execution_count": 631,
   "metadata": {
    "collapsed": false
   },
   "outputs": [
    {
     "name": "stdout",
     "output_type": "stream",
     "text": [
      "Predicted result [1]\n",
      "unacceptable\n"
     ]
    }
   ],
   "source": [
    "result = percep.predict([[4,4,2,2,1,1]])#,[1,1,6,5,3,3]])\n",
    "car_eval = {1:'unacceptable',2:'acceptable',3:'good',4:'vgood'}\n",
    "print(\"Predicted result\", result)\n",
    "i = int(result)\n",
    "print(car_eval[i])\n",
    "\n"
   ]
  },
  {
   "cell_type": "code",
   "execution_count": 632,
   "metadata": {
    "collapsed": false
   },
   "outputs": [
    {
     "data": {
      "text/plain": [
       "array([[1, 4, 2, 5, 2, 2],\n",
       "       [4, 3, 2, 4, 3, 2],\n",
       "       [3, 2, 2, 2, 1, 1],\n",
       "       ..., \n",
       "       [3, 1, 6, 2, 1, 2],\n",
       "       [2, 3, 6, 5, 2, 3],\n",
       "       [1, 3, 3, 5, 2, 2]])"
      ]
     },
     "execution_count": 632,
     "metadata": {},
     "output_type": "execute_result"
    }
   ],
   "source": [
    "X_test #30%"
   ]
  },
  {
   "cell_type": "code",
   "execution_count": 633,
   "metadata": {
    "collapsed": false
   },
   "outputs": [
    {
     "name": "stdout",
     "output_type": "stream",
     "text": [
      "Correct prediction:  405\n",
      "Total test instances:  519\n",
      "Percentage correct: 78.03\n"
     ]
    }
   ],
   "source": [
    "result = percep.predict(X_test)\n",
    "count = 0\n",
    "for i in range(len(result)):\n",
    "    if(result[i] == y_test[i]):\n",
    "        count+=1\n",
    "print(\"Correct prediction: \",count)\n",
    "print(\"Total test instances: \",len(X_test))\n",
    "print(\"Percentage correct: %2.2f\" %((count/len(X_test))*100))\n"
   ]
  },
  {
   "cell_type": "code",
   "execution_count": 634,
   "metadata": {
    "collapsed": false
   },
   "outputs": [
    {
     "name": "stdout",
     "output_type": "stream",
     "text": [
      "             precision    recall  f1-score   support\n",
      "\n",
      "          1       0.83      0.98      0.90       363\n",
      "          2       0.55      0.44      0.49       115\n",
      "          3       0.00      0.00      0.00        25\n",
      "          4       0.00      0.00      0.00        16\n",
      "\n",
      "avg / total       0.70      0.78      0.74       519\n",
      "\n"
     ]
    }
   ],
   "source": [
    "y_pred = percep.predict(X_test)\n",
    "print(classification_report(y_test,y_pred))"
   ]
  },
  {
   "cell_type": "markdown",
   "metadata": {
    "collapsed": true
   },
   "source": [
    "### Observation: Perceptron cannot detect rating of 3 and 4, mostly confuses to rating of 2"
   ]
  },
  {
   "cell_type": "code",
   "execution_count": 635,
   "metadata": {
    "collapsed": false
   },
   "outputs": [
    {
     "data": {
      "text/plain": [
       "array([[354,   9,   0,   0],\n",
       "       [ 64,  51,   0,   0],\n",
       "       [  7,  18,   0,   0],\n",
       "       [  1,  15,   0,   0]])"
      ]
     },
     "execution_count": 635,
     "metadata": {},
     "output_type": "execute_result"
    }
   ],
   "source": [
    "cm = metrics.confusion_matrix(y_test,y_pred)\n",
    "cm"
   ]
  },
  {
   "cell_type": "code",
   "execution_count": 636,
   "metadata": {
    "collapsed": false
   },
   "outputs": [
    {
     "data": {
      "image/png": "[encoded data removed]",
      "text/plain": [
       "<matplotlib.figure.Figure at 0x7f2383e60198>"
      ]
     },
     "metadata": {},
     "output_type": "display_data"
    }
   ],
   "source": [
    "plt.matshow(cm)\n",
    "plt.show()"
   ]
  },
  {
   "cell_type": "markdown",
   "metadata": {},
   "source": [
    "### Support Vector Classifier"
   ]
  },
  {
   "cell_type": "code",
   "execution_count": 637,
   "metadata": {
    "collapsed": false
   },
   "outputs": [
    {
     "data": {
      "text/plain": [
       "SVC(C=1.0, cache_size=200, class_weight=None, coef0=0.0, degree=3, gamma=0.0,\n",
       "  kernel='rbf', max_iter=-1, probability=False, random_state=None,\n",
       "  shrinking=True, tol=0.001, verbose=False)"
      ]
     },
     "execution_count": 637,
     "metadata": {},
     "output_type": "execute_result"
    }
   ],
   "source": [
    "svc = SVC()\n",
    "svc.fit(X_train,y_train)"
   ]
  },
  {
   "cell_type": "code",
   "execution_count": 638,
   "metadata": {
    "collapsed": false
   },
   "outputs": [
    {
     "name": "stdout",
     "output_type": "stream",
     "text": [
      "             precision    recall  f1-score   support\n",
      "\n",
      "          1       0.99      0.98      0.98       363\n",
      "          2       0.88      0.93      0.90       115\n",
      "          3       0.86      0.76      0.81        25\n",
      "          4       0.88      0.88      0.88        16\n",
      "\n",
      "avg / total       0.95      0.95      0.95       519\n",
      "\n"
     ]
    }
   ],
   "source": [
    "pred = svc.predict(X_test)\n",
    "print(classification_report(y_test,pred))"
   ]
  },
  {
   "cell_type": "markdown",
   "metadata": {
    "collapsed": true
   },
   "source": [
    "### Observation: prescision of 95% with SVC. "
   ]
  },
  {
   "cell_type": "code",
   "execution_count": 639,
   "metadata": {
    "collapsed": false
   },
   "outputs": [
    {
     "data": {
      "text/plain": [
       "array([[354,   9,   0,   0],\n",
       "       [  5, 107,   3,   0],\n",
       "       [  0,   4,  19,   2],\n",
       "       [  0,   2,   0,  14]])"
      ]
     },
     "execution_count": 639,
     "metadata": {},
     "output_type": "execute_result"
    }
   ],
   "source": [
    "cm = metrics.confusion_matrix(y_test, pred)\n",
    "cm"
   ]
  },
  {
   "cell_type": "code",
   "execution_count": 640,
   "metadata": {
    "collapsed": false
   },
   "outputs": [
    {
     "data": {
      "image/png": "[encoded data removed]",
      "text/plain": [
       "<matplotlib.figure.Figure at 0x7f2383fdedd8>"
      ]
     },
     "metadata": {},
     "output_type": "display_data"
    }
   ],
   "source": [
    "plt.matshow(cm)\n",
    "plt.show()"
   ]
  },
  {
   "cell_type": "markdown",
   "metadata": {},
   "source": [
    "### Naive Bayes"
   ]
  },
  {
   "cell_type": "code",
   "execution_count": 641,
   "metadata": {
    "collapsed": false
   },
   "outputs": [
    {
     "name": "stdout",
     "output_type": "stream",
     "text": [
      "             precision    recall  f1-score   support\n",
      "\n",
      "          1       0.70      1.00      0.82       363\n",
      "          2       0.00      0.00      0.00       115\n",
      "          3       0.00      0.00      0.00        25\n",
      "          4       0.00      0.00      0.00        16\n",
      "\n",
      "avg / total       0.49      0.70      0.58       519\n",
      "\n"
     ]
    }
   ],
   "source": [
    "nb = MultinomialNB()\n",
    "nb.fit(X_train,y_train)\n",
    "pred = nb.predict(X_test)\n",
    "print(classification_report(y_test,pred))"
   ]
  },
  {
   "cell_type": "markdown",
   "metadata": {},
   "source": [
    "#### Observation: precision of 49%. supports categoy 1 only. In Naive Bayes there is a strong independence(naive) assupmption between features."
   ]
  },
  {
   "cell_type": "code",
   "execution_count": 642,
   "metadata": {
    "collapsed": false
   },
   "outputs": [
    {
     "data": {
      "text/plain": [
       "array([[363,   0,   0,   0],\n",
       "       [115,   0,   0,   0],\n",
       "       [ 24,   1,   0,   0],\n",
       "       [ 16,   0,   0,   0]])"
      ]
     },
     "execution_count": 642,
     "metadata": {},
     "output_type": "execute_result"
    }
   ],
   "source": [
    "cm = metrics.confusion_matrix(y_test, pred)\n",
    "cm"
   ]
  },
  {
   "cell_type": "code",
   "execution_count": 643,
   "metadata": {
    "collapsed": false
   },
   "outputs": [
    {
     "data": {
      "image/png": "[encoded data removed]",
      "text/plain": [
       "<matplotlib.figure.Figure at 0x7f2383dd5278>"
      ]
     },
     "metadata": {},
     "output_type": "display_data"
    }
   ],
   "source": [
    "plt.matshow(cm)\n",
    "plt.show()"
   ]
  },
  {
   "cell_type": "markdown",
   "metadata": {},
   "source": [
    "### Random Forest Classifier"
   ]
  },
  {
   "cell_type": "code",
   "execution_count": 644,
   "metadata": {
    "collapsed": false
   },
   "outputs": [
    {
     "data": {
      "text/plain": [
       "RandomForestClassifier(bootstrap=True, class_weight=None, criterion='gini',\n",
       "            max_depth=None, max_features='auto', max_leaf_nodes=None,\n",
       "            min_samples_leaf=1, min_samples_split=2,\n",
       "            min_weight_fraction_leaf=0.0, n_estimators=20, n_jobs=1,\n",
       "            oob_score=False, random_state=None, verbose=0,\n",
       "            warm_start=False)"
      ]
     },
     "execution_count": 644,
     "metadata": {},
     "output_type": "execute_result"
    }
   ],
   "source": [
    "\n",
    "clf = RandomForestClassifier(n_estimators = 20)#number of trees in the forest\n",
    "clf.fit(X_train,y_train)"
   ]
  },
  {
   "cell_type": "code",
   "execution_count": 645,
   "metadata": {
    "collapsed": false
   },
   "outputs": [
    {
     "data": {
      "text/plain": [
       "0.97109826589595372"
      ]
     },
     "execution_count": 645,
     "metadata": {},
     "output_type": "execute_result"
    }
   ],
   "source": [
    "clf.score(X_test,y_test) #Returns the mean accuracy on the given test data and labels."
   ]
  },
  {
   "cell_type": "markdown",
   "metadata": {
    "collapsed": true
   },
   "source": [
    "#### RandomForestClassifier has the least misclassification of 3% when n_estimator ( number of trees) = 20"
   ]
  },
  {
   "cell_type": "markdown",
   "metadata": {},
   "source": [
    "### What are the strongest attributes affecting car evaluation?\n",
    "### Taking only safety of a car as a predictive variable"
   ]
  },
  {
   "cell_type": "code",
   "execution_count": 668,
   "metadata": {
    "collapsed": false
   },
   "outputs": [],
   "source": [
    "X_safety,y_class = c_df.iloc[0:1728,[5]].values,c_df.iloc[0:1728,[6]].values\n"
   ]
  },
  {
   "cell_type": "code",
   "execution_count": 669,
   "metadata": {
    "collapsed": false
   },
   "outputs": [
    {
     "data": {
      "text/plain": [
       "array([[1],\n",
       "       [3],\n",
       "       [2],\n",
       "       ..., \n",
       "       [2],\n",
       "       [1],\n",
       "       [1]])"
      ]
     },
     "execution_count": 669,
     "metadata": {},
     "output_type": "execute_result"
    }
   ],
   "source": [
    "X_s_train, X_s_test, y_s_train, y_s_test = train_test_split(X_safety,y_class)\n",
    "X_s_train"
   ]
  },
  {
   "cell_type": "markdown",
   "metadata": {},
   "source": [
    "### Perceptron"
   ]
  },
  {
   "cell_type": "code",
   "execution_count": 670,
   "metadata": {
    "collapsed": false
   },
   "outputs": [
    {
     "data": {
      "text/plain": [
       "Perceptron(alpha=0.0001, class_weight=None, eta0=1.0, fit_intercept=True,\n",
       "      n_iter=5, n_jobs=1, penalty=None, random_state=0, shuffle=True,\n",
       "      verbose=0, warm_start=False)"
      ]
     },
     "execution_count": 670,
     "metadata": {},
     "output_type": "execute_result"
    }
   ],
   "source": [
    "percep = Perceptron()\n",
    "percep.fit(X_s_train,y_s_train)\n"
   ]
  },
  {
   "cell_type": "code",
   "execution_count": 671,
   "metadata": {
    "collapsed": false
   },
   "outputs": [
    {
     "name": "stdout",
     "output_type": "stream",
     "text": [
      "             precision    recall  f1-score   support\n",
      "\n",
      "          1       0.69      1.00      0.81       296\n",
      "          2       0.00      0.00      0.00       106\n",
      "          3       0.00      0.00      0.00        15\n",
      "          4       0.00      0.00      0.00        15\n",
      "\n",
      "avg / total       0.47      0.69      0.56       432\n",
      "\n"
     ]
    }
   ],
   "source": [
    "y_s_pred = percep.predict(X_s_test)\n",
    "print(classification_report(y_s_test,y_s_pred))"
   ]
  },
  {
   "cell_type": "markdown",
   "metadata": {
    "collapsed": true
   },
   "source": [
    "#### Observation: all attributes (70%) while 1 attribute 47%"
   ]
  },
  {
   "cell_type": "code",
   "execution_count": 672,
   "metadata": {
    "collapsed": false
   },
   "outputs": [
    {
     "data": {
      "text/plain": [
       "array([[296,   0,   0,   0],\n",
       "       [106,   0,   0,   0],\n",
       "       [ 15,   0,   0,   0],\n",
       "       [ 15,   0,   0,   0]])"
      ]
     },
     "execution_count": 672,
     "metadata": {},
     "output_type": "execute_result"
    }
   ],
   "source": [
    "cm = metrics.confusion_matrix(y_s_test,y_s_pred)\n",
    "cm"
   ]
  },
  {
   "cell_type": "code",
   "execution_count": 673,
   "metadata": {
    "collapsed": false
   },
   "outputs": [
    {
     "data": {
      "image/png": "[encoded data removed]",
      "text/plain": [
       "<matplotlib.figure.Figure at 0x7f2383daf0f0>"
      ]
     },
     "metadata": {},
     "output_type": "display_data"
    }
   ],
   "source": [
    "plt.matshow(cm)\n",
    "plt.show()"
   ]
  },
  {
   "cell_type": "markdown",
   "metadata": {},
   "source": [
    "#### Observation: cannot detect category 2,3 and 4"
   ]
  },
  {
   "cell_type": "code",
   "execution_count": 652,
   "metadata": {
    "collapsed": false
   },
   "outputs": [
    {
     "data": {
      "text/plain": [
       "SVC(C=1.0, cache_size=200, class_weight=None, coef0=0.0, degree=3, gamma=0.0,\n",
       "  kernel='rbf', max_iter=-1, probability=False, random_state=None,\n",
       "  shrinking=True, tol=0.001, verbose=False)"
      ]
     },
     "execution_count": 652,
     "metadata": {},
     "output_type": "execute_result"
    }
   ],
   "source": [
    "svc = SVC()\n",
    "svc.fit(X_s_train,y_s_train)"
   ]
  },
  {
   "cell_type": "code",
   "execution_count": 653,
   "metadata": {
    "collapsed": false
   },
   "outputs": [
    {
     "name": "stdout",
     "output_type": "stream",
     "text": [
      "             precision    recall  f1-score   support\n",
      "\n",
      "          1       0.72      1.00      0.84       310\n",
      "          2       0.00      0.00      0.00        94\n",
      "          3       0.00      0.00      0.00        11\n",
      "          4       0.00      0.00      0.00        17\n",
      "\n",
      "avg / total       0.51      0.72      0.60       432\n",
      "\n"
     ]
    }
   ],
   "source": [
    "pred = svc.predict(X_s_test)\n",
    "print(classification_report(y_s_test,pred))"
   ]
  },
  {
   "cell_type": "markdown",
   "metadata": {},
   "source": [
    "#### Observation: supports just class 1 unacceptable"
   ]
  },
  {
   "cell_type": "code",
   "execution_count": 654,
   "metadata": {
    "collapsed": false
   },
   "outputs": [
    {
     "name": "stdout",
     "output_type": "stream",
     "text": [
      "             precision    recall  f1-score   support\n",
      "\n",
      "          1       0.72      1.00      0.84       310\n",
      "          2       0.00      0.00      0.00        94\n",
      "          3       0.00      0.00      0.00        11\n",
      "          4       0.00      0.00      0.00        17\n",
      "\n",
      "avg / total       0.51      0.72      0.60       432\n",
      "\n"
     ]
    }
   ],
   "source": [
    "nb = MultinomialNB()\n",
    "nb.fit(X_s_train,y_s_train)\n",
    "pred = nb.predict(X_s_test)\n",
    "print(classification_report(y_s_test,pred))"
   ]
  },
  {
   "cell_type": "code",
   "execution_count": 655,
   "metadata": {
    "collapsed": false
   },
   "outputs": [
    {
     "data": {
      "text/plain": [
       "array([[310,   0,   0,   0],\n",
       "       [ 94,   0,   0,   0],\n",
       "       [ 11,   0,   0,   0],\n",
       "       [ 17,   0,   0,   0]])"
      ]
     },
     "execution_count": 655,
     "metadata": {},
     "output_type": "execute_result"
    }
   ],
   "source": [
    "cm = metrics.confusion_matrix(y_s_test,y_s_pred)\n",
    "cm"
   ]
  },
  {
   "cell_type": "code",
   "execution_count": 656,
   "metadata": {
    "collapsed": false
   },
   "outputs": [
    {
     "data": {
      "image/png": "[encoded data removed]",
      "text/plain": [
       "<matplotlib.figure.Figure at 0x7f2383c92208>"
      ]
     },
     "metadata": {},
     "output_type": "display_data"
    }
   ],
   "source": [
    "plt.matshow(cm)\n",
    "plt.show()"
   ]
  },
  {
   "cell_type": "code",
   "execution_count": 657,
   "metadata": {
    "collapsed": false
   },
   "outputs": [
    {
     "data": {
      "text/plain": [
       "RandomForestClassifier(bootstrap=True, class_weight=None, criterion='gini',\n",
       "            max_depth=None, max_features='auto', max_leaf_nodes=None,\n",
       "            min_samples_leaf=1, min_samples_split=2,\n",
       "            min_weight_fraction_leaf=0.0, n_estimators=20, n_jobs=1,\n",
       "            oob_score=False, random_state=None, verbose=0,\n",
       "            warm_start=False)"
      ]
     },
     "execution_count": 657,
     "metadata": {},
     "output_type": "execute_result"
    }
   ],
   "source": [
    "clf = RandomForestClassifier(n_estimators = 20)#number of trees in the forest\n",
    "clf.fit(X_s_train,y_s_train)"
   ]
  },
  {
   "cell_type": "code",
   "execution_count": 658,
   "metadata": {
    "collapsed": false
   },
   "outputs": [
    {
     "data": {
      "text/plain": [
       "0.71759259259259256"
      ]
     },
     "execution_count": 658,
     "metadata": {},
     "output_type": "execute_result"
    }
   ],
   "source": [
    "clf.score(X_s_test,y_s_test) "
   ]
  },
  {
   "cell_type": "markdown",
   "metadata": {},
   "source": [
    "#### Observation: RandomForestClassifier again has the highest precision"
   ]
  },
  {
   "cell_type": "markdown",
   "metadata": {},
   "source": [
    "### Taking number of person and safety as predictive variable"
   ]
  },
  {
   "cell_type": "code",
   "execution_count": 659,
   "metadata": {
    "collapsed": false
   },
   "outputs": [
    {
     "data": {
      "text/plain": [
       "array([['3', 3],\n",
       "       ['3', 1],\n",
       "       ['3', 1],\n",
       "       ..., \n",
       "       [6, 3],\n",
       "       ['3', 2],\n",
       "       ['2', 3]], dtype=object)"
      ]
     },
     "execution_count": 659,
     "metadata": {},
     "output_type": "execute_result"
    }
   ],
   "source": [
    "X_sp,y_sp = c_df.iloc[0:1728,[2,5]].values,c_df.iloc[0:1728,[6]].values\n",
    "X_sp_train, X_sp_test, y_sp_train, y_sp_test = train_test_split(X_sp,y_sp)\n",
    "X_sp_train"
   ]
  },
  {
   "cell_type": "code",
   "execution_count": 660,
   "metadata": {
    "collapsed": false
   },
   "outputs": [
    {
     "data": {
      "text/plain": [
       "Perceptron(alpha=0.0001, class_weight=None, eta0=1.0, fit_intercept=True,\n",
       "      n_iter=5, n_jobs=1, penalty=None, random_state=0, shuffle=True,\n",
       "      verbose=0, warm_start=False)"
      ]
     },
     "execution_count": 660,
     "metadata": {},
     "output_type": "execute_result"
    }
   ],
   "source": [
    "percep = Perceptron()\n",
    "percep.fit(X_sp_train,y_sp_train)"
   ]
  },
  {
   "cell_type": "code",
   "execution_count": 661,
   "metadata": {
    "collapsed": false
   },
   "outputs": [
    {
     "name": "stdout",
     "output_type": "stream",
     "text": [
      "             precision    recall  f1-score   support\n",
      "\n",
      "          1       0.82      0.77      0.80       296\n",
      "          2       0.36      0.59      0.44        94\n",
      "          3       0.00      0.00      0.00        16\n",
      "          4       0.00      0.00      0.00        26\n",
      "\n",
      "avg / total       0.64      0.66      0.64       432\n",
      "\n"
     ]
    }
   ],
   "source": [
    "y_sp_pred = percep.predict(X_sp_test)\n",
    "print(classification_report(y_sp_test,y_sp_pred))"
   ]
  },
  {
   "cell_type": "markdown",
   "metadata": {},
   "source": [
    "#### Observation: better precision (64%) than just safety attribute (47%)"
   ]
  },
  {
   "cell_type": "code",
   "execution_count": 662,
   "metadata": {
    "collapsed": false
   },
   "outputs": [
    {
     "data": {
      "text/plain": [
       "array([[310,   0,   0,   0],\n",
       "       [ 94,   0,   0,   0],\n",
       "       [ 11,   0,   0,   0],\n",
       "       [ 17,   0,   0,   0]])"
      ]
     },
     "execution_count": 662,
     "metadata": {},
     "output_type": "execute_result"
    }
   ],
   "source": [
    "cm = metrics.confusion_matrix(y_s_test,y_s_pred)\n",
    "cm"
   ]
  },
  {
   "cell_type": "markdown",
   "metadata": {},
   "source": [
    "#### Perceptron classifier  cannot classify class 2, 3 and 4"
   ]
  },
  {
   "cell_type": "code",
   "execution_count": 663,
   "metadata": {
    "collapsed": false
   },
   "outputs": [
    {
     "data": {
      "text/plain": [
       "SVC(C=1.0, cache_size=200, class_weight=None, coef0=0.0, degree=3, gamma=0.0,\n",
       "  kernel='rbf', max_iter=-1, probability=False, random_state=None,\n",
       "  shrinking=True, tol=0.001, verbose=False)"
      ]
     },
     "execution_count": 663,
     "metadata": {},
     "output_type": "execute_result"
    }
   ],
   "source": [
    "svc = SVC()\n",
    "svc.fit(X_sp_train,y_sp_train)"
   ]
  },
  {
   "cell_type": "code",
   "execution_count": 664,
   "metadata": {
    "collapsed": false
   },
   "outputs": [
    {
     "name": "stdout",
     "output_type": "stream",
     "text": [
      "             precision    recall  f1-score   support\n",
      "\n",
      "          1       0.69      1.00      0.81       296\n",
      "          2       0.00      0.00      0.00        94\n",
      "          3       0.00      0.00      0.00        16\n",
      "          4       0.00      0.00      0.00        26\n",
      "\n",
      "avg / total       0.47      0.69      0.56       432\n",
      "\n"
     ]
    }
   ],
   "source": [
    "pred_sp = svc.predict(X_sp_test)\n",
    "print(classification_report(y_sp_test,pred_sp))"
   ]
  },
  {
   "cell_type": "markdown",
   "metadata": {},
   "source": [
    "#### Observation: classification similar to perceptron"
   ]
  },
  {
   "cell_type": "code",
   "execution_count": 665,
   "metadata": {
    "collapsed": false
   },
   "outputs": [
    {
     "name": "stdout",
     "output_type": "stream",
     "text": [
      "             precision    recall  f1-score   support\n",
      "\n",
      "          1       0.69      1.00      0.81       296\n",
      "          2       0.00      0.00      0.00        94\n",
      "          3       0.00      0.00      0.00        16\n",
      "          4       0.00      0.00      0.00        26\n",
      "\n",
      "avg / total       0.47      0.69      0.56       432\n",
      "\n"
     ]
    }
   ],
   "source": [
    "nb = MultinomialNB()\n",
    "nb.fit(X_sp_train,y_sp_train)\n",
    "pred_sp = nb.predict(X_sp_test)\n",
    "print(classification_report(y_sp_test,pred_sp))"
   ]
  },
  {
   "cell_type": "markdown",
   "metadata": {},
   "source": [
    "#### Observation: not improved precision than taking only safety (51%) as predictive variable"
   ]
  },
  {
   "cell_type": "code",
   "execution_count": 666,
   "metadata": {
    "collapsed": false
   },
   "outputs": [
    {
     "data": {
      "text/plain": [
       "RandomForestClassifier(bootstrap=True, class_weight=None, criterion='gini',\n",
       "            max_depth=None, max_features='auto', max_leaf_nodes=None,\n",
       "            min_samples_leaf=1, min_samples_split=2,\n",
       "            min_weight_fraction_leaf=0.0, n_estimators=20, n_jobs=1,\n",
       "            oob_score=False, random_state=None, verbose=0,\n",
       "            warm_start=False)"
      ]
     },
     "execution_count": 666,
     "metadata": {},
     "output_type": "execute_result"
    }
   ],
   "source": [
    "clf = RandomForestClassifier(n_estimators = 20)#number of trees in the forest\n",
    "clf.fit(X_sp_train,y_sp_train)\n"
   ]
  },
  {
   "cell_type": "code",
   "execution_count": 667,
   "metadata": {
    "collapsed": false
   },
   "outputs": [
    {
     "data": {
      "text/plain": [
       "0.68518518518518523"
      ]
     },
     "execution_count": 667,
     "metadata": {},
     "output_type": "execute_result"
    }
   ],
   "source": [
    "clf.score(X_sp_test,y_sp_test) "
   ]
  },
  {
   "cell_type": "markdown",
   "metadata": {},
   "source": [
    "#### Observation: Decrease in precsion from 71% to 68%"
   ]
  },
  {
   "cell_type": "markdown",
   "metadata": {
    "collapsed": true
   },
   "source": [
    "### Summary: \n",
    "* The car rating is based on more than safety and car capacity.  Cost  may seem to play a significant part as well. \n",
    "* Given time: use specific combination of predictaable variables such as high cost with high safety and 4 person capacity, low cost, high safety and 2 person capacity, etc. \n",
    "* Newer dataset\n",
    "* Thought: With just safety or safety and car capacity, precision decreses.Cost does seems to play import factor when rating cars."
   ]
  },
  {
   "cell_type": "code",
   "execution_count": null,
   "metadata": {
    "collapsed": true
   },
   "outputs": [],
   "source": []
  },
  {
   "cell_type": "code",
   "execution_count": null,
   "metadata": {
    "collapsed": true
   },
   "outputs": [],
   "source": []
  },
  {
   "cell_type": "code",
   "execution_count": null,
   "metadata": {
    "collapsed": true
   },
   "outputs": [],
   "source": []
  },
  {
   "cell_type": "code",
   "execution_count": null,
   "metadata": {
    "collapsed": true
   },
   "outputs": [],
   "source": []
  }
 ],
 "metadata": {
  "kernelspec": {
   "display_name": "Python 3",
   "language": "python",
   "name": "python3"
  },
  "language_info": {
   "codemirror_mode": {
    "name": "ipython",
    "version": 3
   },
   "file_extension": ".py",
   "mimetype": "text/x-python",
   "name": "python",
   "nbconvert_exporter": "python",
   "pygments_lexer": "ipython3",
   "version": "3.4.3"
  }
 },
 "nbformat": 4,
 "nbformat_minor": 0
}
